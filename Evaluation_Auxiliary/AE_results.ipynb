{
 "cells": [
  {
   "cell_type": "markdown",
   "id": "df78937a",
   "metadata": {},
   "source": [
    "# This notebook is used to collect all the AE project results"
   ]
  },
  {
   "cell_type": "code",
   "execution_count": 1,
   "id": "9dafa19a",
   "metadata": {},
   "outputs": [],
   "source": [
    "import pandas as pd\n",
    "import numpy as np\n",
    "import json\n",
    "import seaborn as sns\n",
    "from matplotlib import pyplot as plt\n",
    "pd.set_option('display.max_columns', 500)"
   ]
  },
  {
   "cell_type": "markdown",
   "id": "ba84b61f",
   "metadata": {},
   "source": []
  },
  {
   "cell_type": "code",
   "execution_count": 2,
   "id": "1bf80e20",
   "metadata": {},
   "outputs": [],
   "source": [
    "%load_ext rpy2.ipython"
   ]
  },
  {
   "cell_type": "code",
   "execution_count": 3,
   "id": "c6f01042",
   "metadata": {},
   "outputs": [
    {
     "name": "stderr",
     "output_type": "stream",
     "text": [
      "R[write to console]: \n",
      "Attaching package: ‘dplyr’\n",
      "\n",
      "\n",
      "R[write to console]: The following objects are masked from ‘package:stats’:\n",
      "\n",
      "    filter, lag\n",
      "\n",
      "\n",
      "R[write to console]: The following objects are masked from ‘package:base’:\n",
      "\n",
      "    intersect, setdiff, setequal, union\n",
      "\n",
      "\n"
     ]
    }
   ],
   "source": [
    "%%R\n",
    "library(tidyr)\n",
    "library(dplyr)\n",
    "library(\"ggplot2\")\n",
    "library(ggsci)\n",
    "library(\"scales\")\n",
    "\n",
    "library(\"RColorBrewer\")\n",
    "library('pheatmap')\n",
    "library(\"ggpubr\")\n"
   ]
  },
  {
   "cell_type": "markdown",
   "id": "26579925",
   "metadata": {},
   "source": [
    "### 1 Optimal hyperparameter of AE models on simulation dataset (This will include 8 tables for each AE model on all 20 settings)"
   ]
  },
  {
   "cell_type": "code",
   "execution_count": 4,
   "id": "067f5186",
   "metadata": {},
   "outputs": [],
   "source": [
    "### extract the optimal hyperparameters for simulation data\n",
    "model_selection_folder = '/home/wangc90/Data_integration/simulation_model_outputs/model_selection_outputs'"
   ]
  },
  {
   "cell_type": "code",
   "execution_count": 5,
   "id": "6f482275",
   "metadata": {},
   "outputs": [],
   "source": [
    "def get_optimal_hypers_simulation(AE_model):\n",
    "    \n",
    "    '''\n",
    "        This is a simple function the extract the optimal hyperparameter set for a given \n",
    "        AE models corresponding with lowerest average reconstruction loss\n",
    "    '''\n",
    "    hypers_list = []\n",
    "    for group in [2, 3, 4, 5]:\n",
    "        for prop_diff in [0.2, 0.4, 0.6, 0.8, 1]:\n",
    "            optuna_path = f'{model_selection_folder}/{AE_model}/optuna/optuna_{group}_groups_{prop_diff}/optuna.csv'\n",
    "            optuna_df = pd.read_csv(optuna_path, sep='\\t')\n",
    "            optuna_df.rename(columns={\"value\": \"recon_loss\"}, inplace=True)\n",
    "            optimal_pars = optuna_df.sort_values(by='recon_loss', ascending=True).head(1).T.reset_index()\n",
    "            optimal_pars.columns = ['index', 'best_trial_value']\n",
    "            optimal_pars['pars'] =optimal_pars['index'].apply(lambda X: X.replace('params_', ''))\n",
    "            final_df = optimal_pars[['pars', 'best_trial_value']].set_index('pars')\n",
    "            final_df.columns = [f'{AE_model}_{group}_groups_{prop_diff}']\n",
    "            hypers_list.append(final_df)\n",
    "    final_df_concate = pd.concat(hypers_list, axis=1)\n",
    "    return final_df_concate"
   ]
  },
  {
   "cell_type": "code",
   "execution_count": null,
   "id": "944ccefd",
   "metadata": {},
   "outputs": [],
   "source": []
  },
  {
   "cell_type": "code",
   "execution_count": 6,
   "id": "3b726e23",
   "metadata": {},
   "outputs": [],
   "source": [
    "# pd.set_option('display.float_format', '{:.2g}'.format)\n",
    "\n",
    "cnc_ae_sim = get_optimal_hypers_simulation(AE_model='CNC_AE')\n",
    "x_ae_sim = get_optimal_hypers_simulation(AE_model='X_AE')\n",
    "mm_ae_sim = get_optimal_hypers_simulation(AE_model='MM_AE')\n",
    "ortho_ae_1_sim = get_optimal_hypers_simulation(AE_model='Ortho_AE1')\n",
    "ortho_ae_2_sim = get_optimal_hypers_simulation(AE_model='Ortho_AE2')\n",
    "ortho_ae_3_sim = get_optimal_hypers_simulation(AE_model='Ortho_AE3')\n",
    "nonortho_ae_sim = get_optimal_hypers_simulation(AE_model='NonOrtho_AE')\n",
    "mocss_ae_sim = get_optimal_hypers_simulation(AE_model='MOCSS_AE')"
   ]
  },
  {
   "cell_type": "code",
   "execution_count": 8,
   "id": "e9613ca6",
   "metadata": {},
   "outputs": [
    {
     "data": {
      "text/html": [
       "<div>\n",
       "<style scoped>\n",
       "    .dataframe tbody tr th:only-of-type {\n",
       "        vertical-align: middle;\n",
       "    }\n",
       "\n",
       "    .dataframe tbody tr th {\n",
       "        vertical-align: top;\n",
       "    }\n",
       "\n",
       "    .dataframe thead th {\n",
       "        text-align: right;\n",
       "    }\n",
       "</style>\n",
       "<table border=\"1\" class=\"dataframe\">\n",
       "  <thead>\n",
       "    <tr style=\"text-align: right;\">\n",
       "      <th></th>\n",
       "      <th>CNC_AE_2_groups_0.2</th>\n",
       "      <th>CNC_AE_2_groups_0.4</th>\n",
       "      <th>CNC_AE_2_groups_0.6</th>\n",
       "      <th>CNC_AE_2_groups_0.8</th>\n",
       "      <th>CNC_AE_2_groups_1</th>\n",
       "      <th>CNC_AE_3_groups_0.2</th>\n",
       "      <th>CNC_AE_3_groups_0.4</th>\n",
       "      <th>CNC_AE_3_groups_0.6</th>\n",
       "      <th>CNC_AE_3_groups_0.8</th>\n",
       "      <th>CNC_AE_3_groups_1</th>\n",
       "      <th>CNC_AE_4_groups_0.2</th>\n",
       "      <th>CNC_AE_4_groups_0.4</th>\n",
       "      <th>CNC_AE_4_groups_0.6</th>\n",
       "      <th>CNC_AE_4_groups_0.8</th>\n",
       "      <th>CNC_AE_4_groups_1</th>\n",
       "      <th>CNC_AE_5_groups_0.2</th>\n",
       "      <th>CNC_AE_5_groups_0.4</th>\n",
       "      <th>CNC_AE_5_groups_0.6</th>\n",
       "      <th>CNC_AE_5_groups_0.8</th>\n",
       "      <th>CNC_AE_5_groups_1</th>\n",
       "    </tr>\n",
       "    <tr>\n",
       "      <th>pars</th>\n",
       "      <th></th>\n",
       "      <th></th>\n",
       "      <th></th>\n",
       "      <th></th>\n",
       "      <th></th>\n",
       "      <th></th>\n",
       "      <th></th>\n",
       "      <th></th>\n",
       "      <th></th>\n",
       "      <th></th>\n",
       "      <th></th>\n",
       "      <th></th>\n",
       "      <th></th>\n",
       "      <th></th>\n",
       "      <th></th>\n",
       "      <th></th>\n",
       "      <th></th>\n",
       "      <th></th>\n",
       "      <th></th>\n",
       "      <th></th>\n",
       "    </tr>\n",
       "  </thead>\n",
       "  <tbody>\n",
       "    <tr>\n",
       "      <th>recon_loss</th>\n",
       "      <td>0.02362</td>\n",
       "      <td>0.02398</td>\n",
       "      <td>0.022732</td>\n",
       "      <td>0.021734</td>\n",
       "      <td>0.019211</td>\n",
       "      <td>0.026079</td>\n",
       "      <td>0.02532</td>\n",
       "      <td>0.022575</td>\n",
       "      <td>0.020171</td>\n",
       "      <td>0.022309</td>\n",
       "      <td>0.026351</td>\n",
       "      <td>0.02464</td>\n",
       "      <td>0.02162</td>\n",
       "      <td>0.023134</td>\n",
       "      <td>0.020127</td>\n",
       "      <td>0.025692</td>\n",
       "      <td>0.023835</td>\n",
       "      <td>0.027063</td>\n",
       "      <td>0.023631</td>\n",
       "      <td>0.022013</td>\n",
       "    </tr>\n",
       "    <tr>\n",
       "      <th>_embed_s1_drop_rate</th>\n",
       "      <td>0.00000</td>\n",
       "      <td>0.60000</td>\n",
       "      <td>0.000000</td>\n",
       "      <td>0.600000</td>\n",
       "      <td>0.200000</td>\n",
       "      <td>0.000000</td>\n",
       "      <td>0.10000</td>\n",
       "      <td>0.000000</td>\n",
       "      <td>0.600000</td>\n",
       "      <td>0.600000</td>\n",
       "      <td>0.600000</td>\n",
       "      <td>0.60000</td>\n",
       "      <td>0.20000</td>\n",
       "      <td>0.000000</td>\n",
       "      <td>0.400000</td>\n",
       "      <td>0.600000</td>\n",
       "      <td>0.100000</td>\n",
       "      <td>0.600000</td>\n",
       "      <td>0.400000</td>\n",
       "      <td>0.400000</td>\n",
       "    </tr>\n",
       "    <tr>\n",
       "      <th>_embed_s1_out_dim</th>\n",
       "      <td>256.00000</td>\n",
       "      <td>256.00000</td>\n",
       "      <td>256.000000</td>\n",
       "      <td>32.000000</td>\n",
       "      <td>64.000000</td>\n",
       "      <td>128.000000</td>\n",
       "      <td>256.00000</td>\n",
       "      <td>32.000000</td>\n",
       "      <td>512.000000</td>\n",
       "      <td>64.000000</td>\n",
       "      <td>512.000000</td>\n",
       "      <td>128.00000</td>\n",
       "      <td>128.00000</td>\n",
       "      <td>128.000000</td>\n",
       "      <td>64.000000</td>\n",
       "      <td>128.000000</td>\n",
       "      <td>64.000000</td>\n",
       "      <td>128.000000</td>\n",
       "      <td>32.000000</td>\n",
       "      <td>512.000000</td>\n",
       "    </tr>\n",
       "    <tr>\n",
       "      <th>_embed_s2_drop_rate</th>\n",
       "      <td>0.60000</td>\n",
       "      <td>0.00000</td>\n",
       "      <td>0.200000</td>\n",
       "      <td>0.100000</td>\n",
       "      <td>0.200000</td>\n",
       "      <td>0.200000</td>\n",
       "      <td>0.40000</td>\n",
       "      <td>0.400000</td>\n",
       "      <td>0.400000</td>\n",
       "      <td>0.200000</td>\n",
       "      <td>0.100000</td>\n",
       "      <td>0.20000</td>\n",
       "      <td>0.10000</td>\n",
       "      <td>0.200000</td>\n",
       "      <td>0.000000</td>\n",
       "      <td>0.400000</td>\n",
       "      <td>0.600000</td>\n",
       "      <td>0.200000</td>\n",
       "      <td>0.100000</td>\n",
       "      <td>0.000000</td>\n",
       "    </tr>\n",
       "    <tr>\n",
       "      <th>_embed_s2_out_dim</th>\n",
       "      <td>512.00000</td>\n",
       "      <td>256.00000</td>\n",
       "      <td>1024.000000</td>\n",
       "      <td>1024.000000</td>\n",
       "      <td>512.000000</td>\n",
       "      <td>64.000000</td>\n",
       "      <td>128.00000</td>\n",
       "      <td>512.000000</td>\n",
       "      <td>32.000000</td>\n",
       "      <td>128.000000</td>\n",
       "      <td>1024.000000</td>\n",
       "      <td>64.00000</td>\n",
       "      <td>512.00000</td>\n",
       "      <td>128.000000</td>\n",
       "      <td>32.000000</td>\n",
       "      <td>64.000000</td>\n",
       "      <td>256.000000</td>\n",
       "      <td>128.000000</td>\n",
       "      <td>32.000000</td>\n",
       "      <td>32.000000</td>\n",
       "    </tr>\n",
       "  </tbody>\n",
       "</table>\n",
       "</div>"
      ],
      "text/plain": [
       "                     CNC_AE_2_groups_0.2  CNC_AE_2_groups_0.4  \\\n",
       "pars                                                            \n",
       "recon_loss                       0.02362              0.02398   \n",
       "_embed_s1_drop_rate              0.00000              0.60000   \n",
       "_embed_s1_out_dim              256.00000            256.00000   \n",
       "_embed_s2_drop_rate              0.60000              0.00000   \n",
       "_embed_s2_out_dim              512.00000            256.00000   \n",
       "\n",
       "                     CNC_AE_2_groups_0.6  CNC_AE_2_groups_0.8  \\\n",
       "pars                                                            \n",
       "recon_loss                      0.022732             0.021734   \n",
       "_embed_s1_drop_rate             0.000000             0.600000   \n",
       "_embed_s1_out_dim             256.000000            32.000000   \n",
       "_embed_s2_drop_rate             0.200000             0.100000   \n",
       "_embed_s2_out_dim            1024.000000          1024.000000   \n",
       "\n",
       "                     CNC_AE_2_groups_1  CNC_AE_3_groups_0.2  \\\n",
       "pars                                                          \n",
       "recon_loss                    0.019211             0.026079   \n",
       "_embed_s1_drop_rate           0.200000             0.000000   \n",
       "_embed_s1_out_dim            64.000000           128.000000   \n",
       "_embed_s2_drop_rate           0.200000             0.200000   \n",
       "_embed_s2_out_dim           512.000000            64.000000   \n",
       "\n",
       "                     CNC_AE_3_groups_0.4  CNC_AE_3_groups_0.6  \\\n",
       "pars                                                            \n",
       "recon_loss                       0.02532             0.022575   \n",
       "_embed_s1_drop_rate              0.10000             0.000000   \n",
       "_embed_s1_out_dim              256.00000            32.000000   \n",
       "_embed_s2_drop_rate              0.40000             0.400000   \n",
       "_embed_s2_out_dim              128.00000           512.000000   \n",
       "\n",
       "                     CNC_AE_3_groups_0.8  CNC_AE_3_groups_1  \\\n",
       "pars                                                          \n",
       "recon_loss                      0.020171           0.022309   \n",
       "_embed_s1_drop_rate             0.600000           0.600000   \n",
       "_embed_s1_out_dim             512.000000          64.000000   \n",
       "_embed_s2_drop_rate             0.400000           0.200000   \n",
       "_embed_s2_out_dim              32.000000         128.000000   \n",
       "\n",
       "                     CNC_AE_4_groups_0.2  CNC_AE_4_groups_0.4  \\\n",
       "pars                                                            \n",
       "recon_loss                      0.026351              0.02464   \n",
       "_embed_s1_drop_rate             0.600000              0.60000   \n",
       "_embed_s1_out_dim             512.000000            128.00000   \n",
       "_embed_s2_drop_rate             0.100000              0.20000   \n",
       "_embed_s2_out_dim            1024.000000             64.00000   \n",
       "\n",
       "                     CNC_AE_4_groups_0.6  CNC_AE_4_groups_0.8  \\\n",
       "pars                                                            \n",
       "recon_loss                       0.02162             0.023134   \n",
       "_embed_s1_drop_rate              0.20000             0.000000   \n",
       "_embed_s1_out_dim              128.00000           128.000000   \n",
       "_embed_s2_drop_rate              0.10000             0.200000   \n",
       "_embed_s2_out_dim              512.00000           128.000000   \n",
       "\n",
       "                     CNC_AE_4_groups_1  CNC_AE_5_groups_0.2  \\\n",
       "pars                                                          \n",
       "recon_loss                    0.020127             0.025692   \n",
       "_embed_s1_drop_rate           0.400000             0.600000   \n",
       "_embed_s1_out_dim            64.000000           128.000000   \n",
       "_embed_s2_drop_rate           0.000000             0.400000   \n",
       "_embed_s2_out_dim            32.000000            64.000000   \n",
       "\n",
       "                     CNC_AE_5_groups_0.4  CNC_AE_5_groups_0.6  \\\n",
       "pars                                                            \n",
       "recon_loss                      0.023835             0.027063   \n",
       "_embed_s1_drop_rate             0.100000             0.600000   \n",
       "_embed_s1_out_dim              64.000000           128.000000   \n",
       "_embed_s2_drop_rate             0.600000             0.200000   \n",
       "_embed_s2_out_dim             256.000000           128.000000   \n",
       "\n",
       "                     CNC_AE_5_groups_0.8  CNC_AE_5_groups_1  \n",
       "pars                                                         \n",
       "recon_loss                      0.023631           0.022013  \n",
       "_embed_s1_drop_rate             0.400000           0.400000  \n",
       "_embed_s1_out_dim              32.000000         512.000000  \n",
       "_embed_s2_drop_rate             0.100000           0.000000  \n",
       "_embed_s2_out_dim              32.000000          32.000000  "
      ]
     },
     "execution_count": 8,
     "metadata": {},
     "output_type": "execute_result"
    }
   ],
   "source": [
    "cnc_ae_sim.head()"
   ]
  },
  {
   "cell_type": "code",
   "execution_count": 9,
   "id": "4f92272c",
   "metadata": {},
   "outputs": [],
   "source": [
    "def format_cell(val):\n",
    "    if val >= 1:\n",
    "        return '{:.0f}'.format(val)\n",
    "    if val == 0:\n",
    "        return '0'\n",
    "    if val == 0.1:\n",
    "        return '0.1'\n",
    "    if val==0.01:\n",
    "        return '0.01'\n",
    "    if val == 0.2:\n",
    "        return '0.2'\n",
    "    if val == 0.4:\n",
    "        return '0.4'\n",
    "    if val == 0.6:\n",
    "        return '0.6'\n",
    "    if np.isnan(val):\n",
    "        return 'NA'\n",
    "    if val < 0.0001:\n",
    "        return '{:.7f}'.format(val)\n",
    "    else:\n",
    "        return '{:.4f}'.format(val)"
   ]
  },
  {
   "cell_type": "code",
   "execution_count": 10,
   "id": "b8a445f9",
   "metadata": {},
   "outputs": [],
   "source": [
    "### Save the optimal hyperparameters into excel files\n",
    "# names = ['cnc_ae', 'x_ae', 'mm_ae', 'mocss_ae',\n",
    "#          'ortho_ae_1', 'ortho_ae_2', 'ortho_ae_3', 'nonortho_ae']\n",
    "\n",
    "# for index, hyper_df in enumerate([cnc_ae_sim, x_ae_sim, mm_ae_sim, mocss_ae_sim,\n",
    "#                  ortho_ae_1_sim, ortho_ae_2_sim, ortho_ae_3_sim, nonortho_ae_sim]):\n",
    "#     hyper_df_ = hyper_df.applymap(lambda X: format_cell(X))\n",
    "#     print(names[index])\n",
    "#     hyper_df_.to_csv(f'/home/wangc90/Data_integration/AE_results_folder/{names[index]}_optimal_hypers_simulation.csv',\n",
    "#                     sep=',')\n",
    "\n",
    "# print(optimal_hypers_latex)"
   ]
  },
  {
   "cell_type": "markdown",
   "id": "096b2864",
   "metadata": {},
   "source": [
    "### 2 Corresponding lowest 5-fold CV recon loss for simulation dataset"
   ]
  },
  {
   "cell_type": "code",
   "execution_count": 11,
   "id": "6af7387f",
   "metadata": {},
   "outputs": [],
   "source": [
    "def get_recon_loss_cv_simulation(AE_model):\n",
    "    \n",
    "    '''\n",
    "        This is a simple function the extract the cv loss for each AE model in each dataset\n",
    "    '''\n",
    "    model_selection_folder = '/home/wangc90/Data_integration/simulation_model_outputs/model_selection_outputs'\n",
    "    cv_recon_loss_list = []\n",
    "    for group in [2, 3, 4, 5]:\n",
    "        for prop_diff in [0.2, 0.4, 0.6, 0.8, 1]:\n",
    "            val_loss_path = f'{model_selection_folder}/{AE_model}/val_loss/val_{group}_groups_{prop_diff}_loss/val_loss.csv'\n",
    "            val_loss_df = pd.read_csv(val_loss_path, sep='\\t', header=None)\n",
    "            val_loss_df.columns = ['trial', 'cv1', 'cv2', 'cv3', 'cv4', 'cv5']\n",
    "            \n",
    "            ### get the row mean and select the smallest one\n",
    "            val_loss_df['avg'] = val_loss_df.mean(axis=1, numeric_only=True)\n",
    "            final_df = pd.DataFrame(val_loss_df.iloc[val_loss_df['avg'].idxmin(axis=0),]).T.drop(columns=['avg'])\n",
    "            \n",
    "            final_df_ = final_df.melt(id_vars='trial')\n",
    "            final_df_['model_type'] = AE_model\n",
    "            final_df_['data_type'] = f'{group}_groups_{prop_diff}'\n",
    "            final_df_.columns = ['trial_num', 'cv_num', 'cv_recon_loss', 'model_type', 'data_type']\n",
    "            \n",
    "            final_df_['cv_recon_loss'] = pd.to_numeric(final_df_['cv_recon_loss'])\n",
    "            \n",
    "            cv_recon_loss_list.append(final_df_)\n",
    "    final_df_concate = pd.concat(cv_recon_loss_list, axis=0)\n",
    "    \n",
    "    return final_df_concate"
   ]
  },
  {
   "cell_type": "code",
   "execution_count": 12,
   "id": "38d2ba14",
   "metadata": {},
   "outputs": [],
   "source": [
    "model_list = ['CNC_AE', 'X_AE', 'MM_AE', \n",
    "              'NonOrtho_AE', 'Ortho_AE1', 'Ortho_AE2', 'Ortho_AE3']\n",
    "\n",
    "all_recon_loss_cv_list = []\n",
    "\n",
    "for model in model_list:\n",
    "    \n",
    "    recon_loss_cv_df = get_recon_loss_cv_simulation(AE_model=model)\n",
    "    all_recon_loss_cv_list.append(recon_loss_cv_df)\n",
    "\n",
    "all_recon_loss_cv_df = pd.concat(all_recon_loss_cv_list, axis=0)"
   ]
  },
  {
   "cell_type": "code",
   "execution_count": 14,
   "id": "cccfba44",
   "metadata": {},
   "outputs": [],
   "source": [
    "all_recon_loss_cv_df_ = all_recon_loss_cv_df.reset_index().drop(columns='index')"
   ]
  },
  {
   "cell_type": "code",
   "execution_count": 15,
   "id": "d6b502c5",
   "metadata": {},
   "outputs": [
    {
     "data": {
      "text/html": [
       "<div>\n",
       "<style scoped>\n",
       "    .dataframe tbody tr th:only-of-type {\n",
       "        vertical-align: middle;\n",
       "    }\n",
       "\n",
       "    .dataframe tbody tr th {\n",
       "        vertical-align: top;\n",
       "    }\n",
       "\n",
       "    .dataframe thead th {\n",
       "        text-align: right;\n",
       "    }\n",
       "</style>\n",
       "<table border=\"1\" class=\"dataframe\">\n",
       "  <thead>\n",
       "    <tr style=\"text-align: right;\">\n",
       "      <th></th>\n",
       "      <th>trial_num</th>\n",
       "      <th>cv_num</th>\n",
       "      <th>cv_recon_loss</th>\n",
       "      <th>model_type</th>\n",
       "      <th>data_type</th>\n",
       "    </tr>\n",
       "  </thead>\n",
       "  <tbody>\n",
       "    <tr>\n",
       "      <th>0</th>\n",
       "      <td>trial42</td>\n",
       "      <td>cv1</td>\n",
       "      <td>0.023529</td>\n",
       "      <td>CNC_AE</td>\n",
       "      <td>2_groups_0.2</td>\n",
       "    </tr>\n",
       "    <tr>\n",
       "      <th>1</th>\n",
       "      <td>trial42</td>\n",
       "      <td>cv2</td>\n",
       "      <td>0.023533</td>\n",
       "      <td>CNC_AE</td>\n",
       "      <td>2_groups_0.2</td>\n",
       "    </tr>\n",
       "    <tr>\n",
       "      <th>2</th>\n",
       "      <td>trial42</td>\n",
       "      <td>cv3</td>\n",
       "      <td>0.023426</td>\n",
       "      <td>CNC_AE</td>\n",
       "      <td>2_groups_0.2</td>\n",
       "    </tr>\n",
       "    <tr>\n",
       "      <th>3</th>\n",
       "      <td>trial42</td>\n",
       "      <td>cv4</td>\n",
       "      <td>0.023602</td>\n",
       "      <td>CNC_AE</td>\n",
       "      <td>2_groups_0.2</td>\n",
       "    </tr>\n",
       "    <tr>\n",
       "      <th>4</th>\n",
       "      <td>trial42</td>\n",
       "      <td>cv5</td>\n",
       "      <td>0.024012</td>\n",
       "      <td>CNC_AE</td>\n",
       "      <td>2_groups_0.2</td>\n",
       "    </tr>\n",
       "  </tbody>\n",
       "</table>\n",
       "</div>"
      ],
      "text/plain": [
       "  trial_num cv_num  cv_recon_loss model_type     data_type\n",
       "0   trial42    cv1       0.023529     CNC_AE  2_groups_0.2\n",
       "1   trial42    cv2       0.023533     CNC_AE  2_groups_0.2\n",
       "2   trial42    cv3       0.023426     CNC_AE  2_groups_0.2\n",
       "3   trial42    cv4       0.023602     CNC_AE  2_groups_0.2\n",
       "4   trial42    cv5       0.024012     CNC_AE  2_groups_0.2"
      ]
     },
     "execution_count": 15,
     "metadata": {},
     "output_type": "execute_result"
    }
   ],
   "source": [
    "all_recon_loss_cv_df_.head()"
   ]
  },
  {
   "cell_type": "code",
   "execution_count": 16,
   "id": "af7b8c93",
   "metadata": {},
   "outputs": [],
   "source": [
    "### update the AE model names: \n",
    "# NonOrtho_AE  ->  JISAE\n",
    "# Ortho_AE1  ->  JISAE-O1\n",
    "# Ortho_AE2  ->  JISAE-O2\n",
    "# Ortho_AE3  ->  JISAE-O3\n",
    "\n",
    "model_name_dict = {'NonOrtho_AE': 'JISAE', 'Ortho_AE1': 'JISAE-O1', 'Ortho_AE2': 'JISAE-O2', 'Ortho_AE3': 'JISAE-O3'}\n",
    "all_recon_loss_cv_df_['model_type_updated'] = all_recon_loss_cv_df_['model_type'].apply(lambda X: model_name_dict[X] if X in model_name_dict else X)"
   ]
  },
  {
   "cell_type": "code",
   "execution_count": 17,
   "id": "ea72ec4b",
   "metadata": {},
   "outputs": [
    {
     "data": {
      "text/plain": [
       "array(['CNC_AE', 'X_AE', 'MM_AE', 'JISAE', 'JISAE-O1', 'JISAE-O2',\n",
       "       'JISAE-O3'], dtype=object)"
      ]
     },
     "execution_count": 17,
     "metadata": {},
     "output_type": "execute_result"
    }
   ],
   "source": [
    "all_recon_loss_cv_df_['model_type_updated'].unique()"
   ]
  },
  {
   "cell_type": "code",
   "execution_count": 18,
   "id": "df233133",
   "metadata": {},
   "outputs": [
    {
     "data": {
      "image/png": "[encoded data removed]",
      "text/plain": [
       "<IPython.core.display.Image object>"
      ]
     },
     "metadata": {},
     "output_type": "display_data"
    }
   ],
   "source": [
    "%%R -i all_recon_loss_cv_df_\n",
    "\n",
    "\n",
    "all_recon_loss_cv_df_$model_type_updated <- factor(all_recon_loss_cv_df_$model_type_updated,\n",
    "                                                   levels=c(\"CNC_AE\", \"X_AE\", \"MM_AE\",\"JISAE\", \"JISAE-O1\", \"JISAE-O2\", \"JISAE-O3\"),\n",
    "                                                   labels=c(\"CNC_AE\", \"X_AE\", \"MM_AE\",\"JISAE\", \"JISAE-O1\", \"JISAE-O2\", \"JISAE-O3\"))\n",
    "\n",
    "p <- ggplot(all_recon_loss_cv_df_, aes(x = model_type_updated, y = cv_recon_loss, fill = model_type_updated)) +\n",
    "     stat_summary(fun = \"mean\", geom = \"bar\") +\n",
    "    geom_text(aes(label = after_stat(round(y, 3))), stat = \"summary\", fun = \"mean\", vjust = -1.5 , size=4) +\n",
    "    geom_point(aes(x = model_type_updated), position = position_jitterdodge(jitter.width = 0.5, jitter.height=0, \n",
    "                                dodge.width=1), size=3, color='black') +\n",
    "    facet_wrap(vars(data_type), nrow=4) +\n",
    "    scale_y_continuous(breaks = seq(0, 0.3, 0.01), expand = expansion(mult = c(0, 0.1))) +\n",
    "    ylab('5-fold cross validation reconstruction loss on the simulation dataset') + xlab('') + scale_fill_npg(name='AE models') + \n",
    " theme_classic() +\n",
    "    theme(legend.position = \"top\",\n",
    "        legend.title = element_text(size = 22),\n",
    "        legend.text = element_text(size = 18),\n",
    "        axis.text.x = element_text(angle = 0, size = 0),\n",
    "        axis.text.y = element_text(size = 22),\n",
    "        axis.title = element_text(size = 22)) \n",
    "     \n",
    "ggsave(filename=file.path('/home/wangc90/Data_integration/AE_results_folder/5_fold_cv_recon_loss_simulation.pdf'),\n",
    "       width=15, height=15, plot=p)\n",
    "\n",
    "p"
   ]
  },
  {
   "cell_type": "markdown",
   "id": "6dd17a3e",
   "metadata": {},
   "source": [
    "### 3. Recon loss and classification accuracy for retrained AE models on simulation dataset"
   ]
  },
  {
   "cell_type": "code",
   "execution_count": 63,
   "id": "ceee411c",
   "metadata": {},
   "outputs": [],
   "source": [
    "with open('/home/wangc90/Data_integration/simulation_model_outputs/model_comparison_results/recon_loss_train_result') as f:\n",
    "    recon_loss_train_result = json.load(f)\n",
    "    \n",
    "with open('/home/wangc90/Data_integration/simulation_model_outputs/model_comparison_results/recon_loss_test_result') as f:\n",
    "    recon_loss_test_result = json.load(f)\n",
    "    \n",
    "with open('/home/wangc90/Data_integration/simulation_model_outputs/model_comparison_results/nb_training_acc') as f:\n",
    "    nb_training_acc = json.load(f)\n",
    "    \n",
    "\n",
    "with open('/home/wangc90/Data_integration/simulation_model_outputs/model_comparison_results/nb_testing_acc') as f:\n",
    "    nb_testing_acc = json.load(f)"
   ]
  },
  {
   "cell_type": "code",
   "execution_count": 75,
   "id": "98590cbb",
   "metadata": {},
   "outputs": [
    {
     "data": {
      "text/plain": [
       "1.0816193794210751"
      ]
     },
     "execution_count": 75,
     "metadata": {},
     "output_type": "execute_result"
    }
   ],
   "source": [
    "np.mean(recon_loss_train_result['X_AE_2_groups_0.2_diff_training_recon_loss'])"
   ]
  },
  {
   "cell_type": "code",
   "execution_count": 80,
   "id": "2bba50aa",
   "metadata": {},
   "outputs": [
    {
     "data": {
      "text/plain": [
       "'2_groups_0.2_diff'"
      ]
     },
     "execution_count": 80,
     "metadata": {},
     "output_type": "execute_result"
    }
   ],
   "source": [
    "setting"
   ]
  },
  {
   "cell_type": "code",
   "execution_count": null,
   "id": "2e5d1c42",
   "metadata": {},
   "outputs": [],
   "source": [
    "### Start from here"
   ]
  },
  {
   "cell_type": "code",
   "execution_count": 84,
   "id": "1bf9b931",
   "metadata": {},
   "outputs": [
    {
     "name": "stdout",
     "output_type": "stream",
     "text": [
      "CNC_AE_2_groups_0.2_diff_training_recon_loss 0.9468519292771816 0.07403469991067345\n",
      "X_AE_2_groups_0.2_diff_training_recon_loss 1.0816193794210751 0.019398103860993367\n",
      "MM_AE_2_groups_0.2_diff_training_recon_loss 1.0789788817365964 0.02077437771388407\n",
      "MOCSS_AE_2_groups_0.2_diff_training_recon_loss 1.5424172086020311 0.0419137862219137\n",
      "NonOrtho_AE_2_groups_0.2_diff_training_recon_loss 0.9294222010920445 0.029001731504122837\n",
      "Ortho_AE1_2_groups_0.2_diff_training_recon_loss 1.0734125405550003 0.11747022156206176\n",
      "Ortho_AE2_2_groups_0.2_diff_training_recon_loss 0.9325154966364304 0.027082594598714378\n",
      "Ortho_AE3_2_groups_0.2_diff_training_recon_loss 1.0901942695180575 0.11063903819464822\n",
      "CNC_AE_2_groups_0.4_diff_training_recon_loss 0.9788978300988674 0.13595110367831037\n",
      "X_AE_2_groups_0.4_diff_training_recon_loss 0.9484384691963593 0.030375611967364248\n",
      "MM_AE_2_groups_0.4_diff_training_recon_loss 0.9573482329646746 0.02977693762089926\n",
      "MOCSS_AE_2_groups_0.4_diff_training_recon_loss 1.507513078302145 0.061618536252988784\n",
      "NonOrtho_AE_2_groups_0.4_diff_training_recon_loss 0.8776260292778413 0.029551808303473967\n",
      "Ortho_AE1_2_groups_0.4_diff_training_recon_loss 0.9549722447991371 0.07783160891463352\n",
      "Ortho_AE2_2_groups_0.4_diff_training_recon_loss 1.0452867238471906 0.03553348082252332\n",
      "Ortho_AE3_2_groups_0.4_diff_training_recon_loss 0.9984393046547969 0.04220312058631506\n",
      "CNC_AE_2_groups_0.6_diff_training_recon_loss 0.8852993521839381 0.03772395652255753\n",
      "X_AE_2_groups_0.6_diff_training_recon_loss 0.8912225433935722 0.034620348342623175\n",
      "MM_AE_2_groups_0.6_diff_training_recon_loss 0.9042816586792469 0.10122846098194692\n",
      "MOCSS_AE_2_groups_0.6_diff_training_recon_loss 1.416405346741279 0.060297708110997474\n",
      "NonOrtho_AE_2_groups_0.6_diff_training_recon_loss 0.8614136648674806 0.03403791056308772\n",
      "Ortho_AE1_2_groups_0.6_diff_training_recon_loss 1.1606718170146146 0.0885427250836418\n",
      "Ortho_AE2_2_groups_0.6_diff_training_recon_loss 0.8434863604605198 0.0358077754123738\n",
      "Ortho_AE3_2_groups_0.6_diff_training_recon_loss 0.8373016958435376 0.2064955888116132\n",
      "CNC_AE_2_groups_0.8_diff_training_recon_loss 0.8560047635187705 0.07680466979146915\n",
      "X_AE_2_groups_0.8_diff_training_recon_loss 0.8125308668861787 0.0497160637538273\n",
      "MM_AE_2_groups_0.8_diff_training_recon_loss 0.8301314454525709 0.05246344272804654\n",
      "MOCSS_AE_2_groups_0.8_diff_training_recon_loss 1.360156969477733 0.08819956388335563\n",
      "NonOrtho_AE_2_groups_0.8_diff_training_recon_loss 0.8284632295370102 0.04909542110371029\n",
      "Ortho_AE1_2_groups_0.8_diff_training_recon_loss 0.791099323456486 0.05148654091139267\n",
      "Ortho_AE2_2_groups_0.8_diff_training_recon_loss 0.8679915501425663 0.04953426332972907\n",
      "Ortho_AE3_2_groups_0.8_diff_training_recon_loss 0.8989006197700898 0.06546154156829785\n",
      "CNC_AE_2_groups_1_diff_training_recon_loss 0.7357957645008961 0.03392681162595136\n",
      "X_AE_2_groups_1_diff_training_recon_loss 0.7466727923601866 0.03396738800247029\n",
      "MM_AE_2_groups_1_diff_training_recon_loss 0.6930191606283188 0.03234545264559772\n",
      "MOCSS_AE_2_groups_1_diff_training_recon_loss 1.2586121325691542 0.06274875219948053\n",
      "NonOrtho_AE_2_groups_1_diff_training_recon_loss 0.7858247355868418 0.034782348368535596\n",
      "Ortho_AE1_2_groups_1_diff_training_recon_loss 0.7169933699071407 0.03197914873776453\n",
      "Ortho_AE2_2_groups_1_diff_training_recon_loss 0.7487227664639552 0.031105315959386235\n",
      "Ortho_AE3_2_groups_1_diff_training_recon_loss 0.7331954172501961 0.035032770894695725\n",
      "CNC_AE_3_groups_0.2_diff_training_recon_loss 1.0344076037406922 0.06625877110566789\n",
      "X_AE_3_groups_0.2_diff_training_recon_loss 0.992054660866658 0.11270040554605212\n",
      "MM_AE_3_groups_0.2_diff_training_recon_loss 0.9551109679043293 0.04161524944438453\n",
      "MOCSS_AE_3_groups_0.2_diff_training_recon_loss 1.683803838243087 0.1297161024032734\n",
      "NonOrtho_AE_3_groups_0.2_diff_training_recon_loss 1.0402250320961077 0.047371709613765196\n",
      "Ortho_AE1_3_groups_0.2_diff_training_recon_loss 1.0096667087326447 0.04645038722841119\n",
      "Ortho_AE2_3_groups_0.2_diff_training_recon_loss 0.9191014929364125 0.040019980998004114\n",
      "Ortho_AE3_3_groups_0.2_diff_training_recon_loss 0.9730484750121832 0.19890769562760058\n",
      "CNC_AE_3_groups_0.4_diff_training_recon_loss 0.9854543928056956 0.057100232388991944\n",
      "X_AE_3_groups_0.4_diff_training_recon_loss 0.9993959089120229 0.05452361988018645\n",
      "MM_AE_3_groups_0.4_diff_training_recon_loss 1.0368018003801505 0.12367834367652382\n",
      "MOCSS_AE_3_groups_0.4_diff_training_recon_loss 1.5279846382637818 0.1053410258156475\n",
      "NonOrtho_AE_3_groups_0.4_diff_training_recon_loss 1.0425724676499764 0.22127576101524649\n",
      "Ortho_AE1_3_groups_0.4_diff_training_recon_loss 1.0005500721434752 0.055521975544048516\n",
      "Ortho_AE2_3_groups_0.4_diff_training_recon_loss 1.1101830899715424 0.0811937375461023\n",
      "Ortho_AE3_3_groups_0.4_diff_training_recon_loss 0.9563390119622152 0.05560508909164562\n",
      "CNC_AE_3_groups_0.6_diff_training_recon_loss 0.8844524315247934 0.06379446562556257\n",
      "X_AE_3_groups_0.6_diff_training_recon_loss 0.9627059238652388 0.11413218196221527\n",
      "MM_AE_3_groups_0.6_diff_training_recon_loss 0.904266965513428 0.0685260168988201\n",
      "MOCSS_AE_3_groups_0.6_diff_training_recon_loss 1.459453385323286 0.12731220039538516\n",
      "NonOrtho_AE_3_groups_0.6_diff_training_recon_loss 0.9058450844138861 0.126402177688348\n",
      "Ortho_AE1_3_groups_0.6_diff_training_recon_loss 0.8543908300499121 0.06476145046833752\n",
      "Ortho_AE2_3_groups_0.6_diff_training_recon_loss 0.9973411533981562 0.08317477992580974\n",
      "Ortho_AE3_3_groups_0.6_diff_training_recon_loss 0.8988129811982314 0.06985772245095496\n",
      "CNC_AE_3_groups_0.8_diff_training_recon_loss 0.7887635413557291 0.1258587344667081\n",
      "X_AE_3_groups_0.8_diff_training_recon_loss 0.8867639186481635 0.08014613774371983\n",
      "MM_AE_3_groups_0.8_diff_training_recon_loss 1.0266204275190831 0.09363683158031746\n",
      "MOCSS_AE_3_groups_0.8_diff_training_recon_loss 1.3313732286294302 0.0682033557518462\n",
      "NonOrtho_AE_3_groups_0.8_diff_training_recon_loss 0.8527211760481198 0.05154342822569549\n",
      "Ortho_AE1_3_groups_0.8_diff_training_recon_loss 0.8235996197909117 0.05374939216795078\n",
      "Ortho_AE2_3_groups_0.8_diff_training_recon_loss 0.8044208192576965 0.042699086404773934\n",
      "Ortho_AE3_3_groups_0.8_diff_training_recon_loss 0.7840978976339101 0.049438253137013076\n",
      "CNC_AE_3_groups_1_diff_training_recon_loss 0.8771132004757722 0.0728336102023477\n",
      "X_AE_3_groups_1_diff_training_recon_loss 0.7623482175171375 0.0734510907551193\n",
      "MM_AE_3_groups_1_diff_training_recon_loss 0.7356825082252423 0.030986882611751188\n",
      "MOCSS_AE_3_groups_1_diff_training_recon_loss 1.2423180860777696 0.0487087094842478\n",
      "NonOrtho_AE_3_groups_1_diff_training_recon_loss 0.9416771687567234 0.19038624117927\n",
      "Ortho_AE1_3_groups_1_diff_training_recon_loss 0.728714124734203 0.02910298836111969\n",
      "Ortho_AE2_3_groups_1_diff_training_recon_loss 0.7055874629567067 0.02561438971621776\n",
      "Ortho_AE3_3_groups_1_diff_training_recon_loss 0.7225938474138578 0.024912999380798318\n",
      "CNC_AE_4_groups_0.2_diff_training_recon_loss 1.038407110174497 0.06768023348812717\n",
      "X_AE_4_groups_0.2_diff_training_recon_loss 1.1016255610932906 0.096186978472032\n",
      "MM_AE_4_groups_0.2_diff_training_recon_loss 1.1124923795461654 0.08723469637533192\n",
      "MOCSS_AE_4_groups_0.2_diff_training_recon_loss 1.8631067283451557 0.08780950585628346\n",
      "NonOrtho_AE_4_groups_0.2_diff_training_recon_loss 1.1661250618596872 0.09469180105517754\n",
      "Ortho_AE1_4_groups_0.2_diff_training_recon_loss 1.0739324285338323 0.07549342638074386\n",
      "Ortho_AE2_4_groups_0.2_diff_training_recon_loss 1.0580594590554635 0.06658841596519291\n",
      "Ortho_AE3_4_groups_0.2_diff_training_recon_loss 0.9999533325433732 0.07859895828424197\n",
      "CNC_AE_4_groups_0.4_diff_training_recon_loss 0.9488840255886316 0.05287969831874235\n",
      "X_AE_4_groups_0.4_diff_training_recon_loss 0.9168650216112534 0.04448070296323707\n",
      "MM_AE_4_groups_0.4_diff_training_recon_loss 0.9573148904989163 0.08232289557572299\n",
      "MOCSS_AE_4_groups_0.4_diff_training_recon_loss 1.6582939237356187 0.07569902706135623\n",
      "NonOrtho_AE_4_groups_0.4_diff_training_recon_loss 1.0165965774406989 0.05433795868072661\n",
      "Ortho_AE1_4_groups_0.4_diff_training_recon_loss 0.894960862894853 0.04643598862293202\n",
      "Ortho_AE2_4_groups_0.4_diff_training_recon_loss 1.0523005920151869 0.0439966942073235\n",
      "Ortho_AE3_4_groups_0.4_diff_training_recon_loss 1.0425417210906744 0.08614637792010052\n",
      "CNC_AE_4_groups_0.6_diff_training_recon_loss 0.8461115034917991 0.04132062869545404\n",
      "X_AE_4_groups_0.6_diff_training_recon_loss 0.9136767007410527 0.0651274137003241\n",
      "MM_AE_4_groups_0.6_diff_training_recon_loss 0.8314346339553594 0.04382619548222669\n",
      "MOCSS_AE_4_groups_0.6_diff_training_recon_loss 1.4314550255735716 0.0718148781173954\n",
      "NonOrtho_AE_4_groups_0.6_diff_training_recon_loss 0.9690056871622801 0.058173027385619705\n",
      "Ortho_AE1_4_groups_0.6_diff_training_recon_loss 0.9222035299986601 0.04900686351850445\n",
      "Ortho_AE2_4_groups_0.6_diff_training_recon_loss 0.8598772849887609 0.04807047566451472\n",
      "Ortho_AE3_4_groups_0.6_diff_training_recon_loss 1.0607853809992471 0.06915949560284392\n",
      "CNC_AE_4_groups_0.8_diff_training_recon_loss 0.9076641658941905 0.09808829511856583\n",
      "X_AE_4_groups_0.8_diff_training_recon_loss 0.9848814001927774 0.15810292345167157\n",
      "MM_AE_4_groups_0.8_diff_training_recon_loss 0.8666013659288486 0.07950373613442042\n",
      "MOCSS_AE_4_groups_0.8_diff_training_recon_loss 1.5009959186116855 0.15008640141697227\n",
      "NonOrtho_AE_4_groups_0.8_diff_training_recon_loss 0.9557976537694534 0.0835875972309983\n",
      "Ortho_AE1_4_groups_0.8_diff_training_recon_loss 0.8134791702032089 0.06288292879242079\n",
      "Ortho_AE2_4_groups_0.8_diff_training_recon_loss 0.8879997187604507 0.07781219812626114\n",
      "Ortho_AE3_4_groups_0.8_diff_training_recon_loss 0.9252979248762131 0.06653554166585844\n",
      "CNC_AE_4_groups_1_diff_training_recon_loss 0.7529829353094101 0.0816748487513559\n",
      "X_AE_4_groups_1_diff_training_recon_loss 0.7913139548152686 0.12093207065061155\n",
      "MM_AE_4_groups_1_diff_training_recon_loss 0.8034428119659424 0.11663865923450431\n",
      "MOCSS_AE_4_groups_1_diff_training_recon_loss 1.3652359632154305 0.15620945425679755\n",
      "NonOrtho_AE_4_groups_1_diff_training_recon_loss 0.7742287078251441 0.08117447243410965\n",
      "Ortho_AE1_4_groups_1_diff_training_recon_loss 0.7914682228118182 0.07893867560488477\n",
      "Ortho_AE2_4_groups_1_diff_training_recon_loss 0.844391372675697 0.08109620066022495\n",
      "Ortho_AE3_4_groups_1_diff_training_recon_loss 0.7946477906157573 0.14711202422225703\n",
      "CNC_AE_5_groups_0.2_diff_training_recon_loss 1.0257935136556626 0.07762249054116871\n",
      "X_AE_5_groups_0.2_diff_training_recon_loss 1.3200542132059734 0.11313737224853551\n",
      "MM_AE_5_groups_0.2_diff_training_recon_loss 1.22689446931084 0.0703739517479982\n",
      "MOCSS_AE_5_groups_0.2_diff_training_recon_loss 1.6587865064541498 0.09873194882273437\n",
      "NonOrtho_AE_5_groups_0.2_diff_training_recon_loss 1.0879087926199038 0.04815048300575008\n",
      "Ortho_AE1_5_groups_0.2_diff_training_recon_loss 1.0759869278719028 0.07333815808867951\n",
      "Ortho_AE2_5_groups_0.2_diff_training_recon_loss 1.1365901249150434 0.07684723757039878\n",
      "Ortho_AE3_5_groups_0.2_diff_training_recon_loss 1.0633736160894236 0.05983436054080054\n",
      "CNC_AE_5_groups_0.4_diff_training_recon_loss 0.9223159842193127 0.06256659042248856\n",
      "X_AE_5_groups_0.4_diff_training_recon_loss 1.0790693232168753 0.06877051620182688\n",
      "MM_AE_5_groups_0.4_diff_training_recon_loss 1.085180086394151 0.09729788394298564\n",
      "MOCSS_AE_5_groups_0.4_diff_training_recon_loss 1.9314407462875047 0.08106066830337688\n",
      "NonOrtho_AE_5_groups_0.4_diff_training_recon_loss 0.9220336229850848 0.055688534025895305\n",
      "Ortho_AE1_5_groups_0.4_diff_training_recon_loss 1.0231872607022523 0.06951429368331632\n",
      "Ortho_AE2_5_groups_0.4_diff_training_recon_loss 0.9026372840007146 0.054422880125458484\n",
      "Ortho_AE3_5_groups_0.4_diff_training_recon_loss 1.0730073581139246 0.05630793100991336\n",
      "CNC_AE_5_groups_0.6_diff_training_recon_loss 1.0637071603288253 0.08553795783542527\n",
      "X_AE_5_groups_0.6_diff_training_recon_loss 0.9017501211414735 0.05675845889058713\n",
      "MM_AE_5_groups_0.6_diff_training_recon_loss 0.948577668890357 0.10814611358995127\n",
      "MOCSS_AE_5_groups_0.6_diff_training_recon_loss 1.6632468201220036 0.1804318796191014\n",
      "NonOrtho_AE_5_groups_0.6_diff_training_recon_loss 0.8480100348591805 0.05322868591583186\n",
      "Ortho_AE1_5_groups_0.6_diff_training_recon_loss 1.0989692363888026 0.1382515440002236\n",
      "Ortho_AE2_5_groups_0.6_diff_training_recon_loss 0.8291474585731824 0.04796623701558231\n",
      "Ortho_AE3_5_groups_0.6_diff_training_recon_loss 0.985753758251667 0.06433086302860085\n",
      "CNC_AE_5_groups_0.8_diff_training_recon_loss 0.9375864304602146 0.03805580724058594\n",
      "X_AE_5_groups_0.8_diff_training_recon_loss 0.9181342982997497 0.04594520517923454\n",
      "MM_AE_5_groups_0.8_diff_training_recon_loss 1.0430642418563365 0.06480556557511495\n",
      "MOCSS_AE_5_groups_0.8_diff_training_recon_loss 1.3922317688663801 0.10888548281161059\n",
      "NonOrtho_AE_5_groups_0.8_diff_training_recon_loss 0.8479333800574144 0.05656319413307248\n",
      "Ortho_AE1_5_groups_0.8_diff_training_recon_loss 0.8707048737754425 0.05270553636177738\n",
      "Ortho_AE2_5_groups_0.8_diff_training_recon_loss 0.8010368493696054 0.0483384364263618\n",
      "Ortho_AE3_5_groups_0.8_diff_training_recon_loss 0.9055317341039578 0.06406964337755233\n",
      "CNC_AE_5_groups_1_diff_training_recon_loss 0.843212998782595 0.0783920518389027\n",
      "X_AE_5_groups_1_diff_training_recon_loss 0.753364410623908 0.04584793659509227\n",
      "MM_AE_5_groups_1_diff_training_recon_loss 0.7898930336038271 0.05351301683978367\n",
      "MOCSS_AE_5_groups_1_diff_training_recon_loss 1.328047906855742 0.08766254104794516\n",
      "NonOrtho_AE_5_groups_1_diff_training_recon_loss 0.8365513394276302 0.0618955292031271\n",
      "Ortho_AE1_5_groups_1_diff_training_recon_loss 0.8385347910225391 0.058947536340601486\n",
      "Ortho_AE2_5_groups_1_diff_training_recon_loss 0.7786242318650086 0.03941838300655076\n",
      "Ortho_AE3_5_groups_1_diff_training_recon_loss 0.7686903244505326 0.05448619792370191\n"
     ]
    }
   ],
   "source": [
    "for k, v in recon_loss_train_result.items():\n",
    "    print(k, np.mean(v), np.std(v))\n",
    "#     break"
   ]
  },
  {
   "cell_type": "markdown",
   "id": "02816b66",
   "metadata": {},
   "source": [
    "#### Collect reconstruction loss result on the simulation dataset"
   ]
  },
  {
   "cell_type": "code",
   "execution_count": 181,
   "id": "ee4005ae",
   "metadata": {},
   "outputs": [],
   "source": [
    "def result_extract(results_dict, setting):\n",
    "    df_mean = pd.DataFrame.from_dict({k:np.mean(v) for k, v in results_dict.items() if setting in k}, orient='index')\n",
    "    df_mean.columns = [setting + '_mean']\n",
    "    df_mean.index = ['_'.join(i.split('_')[:2]) for i in df_mean.index]\n",
    "    \n",
    "    df_std = pd.DataFrame.from_dict({k:np.std(v) for k, v in results_dict.items() if setting in k}, orient='index')\n",
    "    df_std.columns = [setting + '_std']\n",
    "    df_std.index = ['_'.join(i.split('_')[:2]) for i in df_mean.index]\n",
    "    \n",
    "    df = pd.concat([df_mean, df_std], axis=1)\n",
    "    df[setting + '_label'] = [str(round(x, 3)) + ' \\n(' + str(round(y,3)) + ') ' for x, y in zip(df[setting + '_mean'], df[setting + '_std'])]\n",
    "    \n",
    "    ### using df_mean for heatmap value and df[['lables']] for annotation purpose\n",
    "    \n",
    "    return df_mean, df[[setting + '_label']]"
   ]
  },
  {
   "cell_type": "code",
   "execution_count": 182,
   "id": "e45fef98",
   "metadata": {},
   "outputs": [
    {
     "data": {
      "text/plain": [
       "'5_groups_1_diff'"
      ]
     },
     "execution_count": 182,
     "metadata": {},
     "output_type": "execute_result"
    }
   ],
   "source": [
    "setting"
   ]
  },
  {
   "cell_type": "code",
   "execution_count": 229,
   "id": "ba6a83a9",
   "metadata": {},
   "outputs": [
    {
     "data": {
      "text/html": [
       "<div>\n",
       "<style scoped>\n",
       "    .dataframe tbody tr th:only-of-type {\n",
       "        vertical-align: middle;\n",
       "    }\n",
       "\n",
       "    .dataframe tbody tr th {\n",
       "        vertical-align: top;\n",
       "    }\n",
       "\n",
       "    .dataframe thead th {\n",
       "        text-align: right;\n",
       "    }\n",
       "</style>\n",
       "<table border=\"1\" class=\"dataframe\">\n",
       "  <thead>\n",
       "    <tr style=\"text-align: right;\">\n",
       "      <th></th>\n",
       "      <th>5_groups_1_diff_label</th>\n",
       "    </tr>\n",
       "  </thead>\n",
       "  <tbody>\n",
       "    <tr>\n",
       "      <th>CNC_AE</th>\n",
       "      <td>0.944 \\n(0.066)</td>\n",
       "    </tr>\n",
       "    <tr>\n",
       "      <th>X_AE</th>\n",
       "      <td>0.878 \\n(0.055)</td>\n",
       "    </tr>\n",
       "    <tr>\n",
       "      <th>MM_AE</th>\n",
       "      <td>0.907 \\n(0.06)</td>\n",
       "    </tr>\n",
       "    <tr>\n",
       "      <th>MOCSS_AE</th>\n",
       "      <td>1.656 \\n(0.109)</td>\n",
       "    </tr>\n",
       "    <tr>\n",
       "      <th>NonOrtho_AE</th>\n",
       "      <td>0.943 \\n(0.069)</td>\n",
       "    </tr>\n",
       "    <tr>\n",
       "      <th>Ortho_AE1</th>\n",
       "      <td>0.943 \\n(0.068)</td>\n",
       "    </tr>\n",
       "    <tr>\n",
       "      <th>Ortho_AE2</th>\n",
       "      <td>0.919 \\n(0.02)</td>\n",
       "    </tr>\n",
       "    <tr>\n",
       "      <th>Ortho_AE3</th>\n",
       "      <td>0.891 \\n(0.063)</td>\n",
       "    </tr>\n",
       "  </tbody>\n",
       "</table>\n",
       "</div>"
      ],
      "text/plain": [
       "            5_groups_1_diff_label\n",
       "CNC_AE           0.944 \\n(0.066) \n",
       "X_AE             0.878 \\n(0.055) \n",
       "MM_AE             0.907 \\n(0.06) \n",
       "MOCSS_AE         1.656 \\n(0.109) \n",
       "NonOrtho_AE      0.943 \\n(0.069) \n",
       "Ortho_AE1        0.943 \\n(0.068) \n",
       "Ortho_AE2         0.919 \\n(0.02) \n",
       "Ortho_AE3        0.891 \\n(0.063) "
      ]
     },
     "execution_count": 229,
     "metadata": {},
     "output_type": "execute_result"
    }
   ],
   "source": [
    "result_extract(recon_loss_test_result, '5_groups_1_diff')[1]"
   ]
  },
  {
   "cell_type": "code",
   "execution_count": 184,
   "id": "4c75bf6c",
   "metadata": {},
   "outputs": [
    {
     "data": {
      "text/html": [
       "<div>\n",
       "<style scoped>\n",
       "    .dataframe tbody tr th:only-of-type {\n",
       "        vertical-align: middle;\n",
       "    }\n",
       "\n",
       "    .dataframe tbody tr th {\n",
       "        vertical-align: top;\n",
       "    }\n",
       "\n",
       "    .dataframe thead th {\n",
       "        text-align: right;\n",
       "    }\n",
       "</style>\n",
       "<table border=\"1\" class=\"dataframe\">\n",
       "  <thead>\n",
       "    <tr style=\"text-align: right;\">\n",
       "      <th></th>\n",
       "      <th>5_groups_1_diff_label</th>\n",
       "    </tr>\n",
       "  </thead>\n",
       "  <tbody>\n",
       "    <tr>\n",
       "      <th>CNC_AE</th>\n",
       "      <td>0.843 \\n(0.078)</td>\n",
       "    </tr>\n",
       "    <tr>\n",
       "      <th>X_AE</th>\n",
       "      <td>0.753 \\n(0.046)</td>\n",
       "    </tr>\n",
       "    <tr>\n",
       "      <th>MM_AE</th>\n",
       "      <td>0.79 \\n(0.054)</td>\n",
       "    </tr>\n",
       "    <tr>\n",
       "      <th>MOCSS_AE</th>\n",
       "      <td>1.328 \\n(0.088)</td>\n",
       "    </tr>\n",
       "    <tr>\n",
       "      <th>NonOrtho_AE</th>\n",
       "      <td>0.837 \\n(0.062)</td>\n",
       "    </tr>\n",
       "    <tr>\n",
       "      <th>Ortho_AE1</th>\n",
       "      <td>0.839 \\n(0.059)</td>\n",
       "    </tr>\n",
       "    <tr>\n",
       "      <th>Ortho_AE2</th>\n",
       "      <td>0.779 \\n(0.039)</td>\n",
       "    </tr>\n",
       "    <tr>\n",
       "      <th>Ortho_AE3</th>\n",
       "      <td>0.769 \\n(0.054)</td>\n",
       "    </tr>\n",
       "  </tbody>\n",
       "</table>\n",
       "</div>"
      ],
      "text/plain": [
       "            5_groups_1_diff_label\n",
       "CNC_AE           0.843 \\n(0.078) \n",
       "X_AE             0.753 \\n(0.046) \n",
       "MM_AE             0.79 \\n(0.054) \n",
       "MOCSS_AE         1.328 \\n(0.088) \n",
       "NonOrtho_AE      0.837 \\n(0.062) \n",
       "Ortho_AE1        0.839 \\n(0.059) \n",
       "Ortho_AE2        0.779 \\n(0.039) \n",
       "Ortho_AE3        0.769 \\n(0.054) "
      ]
     },
     "execution_count": 184,
     "metadata": {},
     "output_type": "execute_result"
    }
   ],
   "source": [
    "result_extract(recon_loss_train_result, '5_groups_1_diff')[1]"
   ]
  },
  {
   "cell_type": "code",
   "execution_count": 223,
   "id": "c1ca27fb",
   "metadata": {},
   "outputs": [],
   "source": [
    "def simulation_recon_result_combining(is_training):\n",
    "    \n",
    "    '''\n",
    "        combine the extracted recon loss for training and testing on the simulation set\n",
    "    '''\n",
    "    if is_training:\n",
    "        results_dict=recon_loss_train_result.copy()\n",
    "    else:\n",
    "        results_dict=recon_loss_test_result.copy()\n",
    "    \n",
    "    recon_loss_result_list = []\n",
    "    recon_loss_result_label_list = []\n",
    "\n",
    "    for group in [2, 3, 4, 5]:\n",
    "        for prop_diff in [0.2, 0.4, 0.6, 0.8, 1]:\n",
    "            setting = f'{group}_groups_{prop_diff}_diff'\n",
    "            df_mean, df_label = result_extract(results_dict=results_dict, setting=setting)\n",
    "            recon_loss_result_list.append(df_mean)\n",
    "            recon_loss_result_label_list.append(df_label)\n",
    "\n",
    "    ## get rid of MOCSS for recon loss comparison\n",
    "    recon_loss_result_df = pd.concat(recon_loss_result_list, axis=1).reset_index()\n",
    "    recon_loss_result_df_ = recon_loss_result_df[recon_loss_result_df['index'] != 'MOCSS_AE'].copy()\n",
    "    \n",
    "    recon_loss_result_label_df = pd.concat(recon_loss_result_label_list, axis=1).reset_index()\n",
    "    recon_loss_result_label_df_ = recon_loss_result_label_df[recon_loss_result_label_df['index'] != 'MOCSS_AE'].copy()\n",
    "    \n",
    "    ## update the AE names\n",
    "    recon_loss_result_df_['index_update'] = recon_loss_result_df_['index'].apply(lambda X: model_name_dict[X] if X in model_name_dict else X)\n",
    "    recon_loss_result_label_df_['index_update'] = recon_loss_result_label_df_['index'].apply(lambda X: model_name_dict[X] if X in model_name_dict else X)    \n",
    "    \n",
    "    \n",
    "    recon_loss_result_df_final = recon_loss_result_df_.drop(columns=['index']).set_index('index_update')\n",
    "    recon_loss_result_label_df_final = recon_loss_result_label_df_.drop(columns=['index']).set_index('index_update')\n",
    "    \n",
    "    ## update the column names for recon_loss_result_df_final\n",
    "    recon_loss_result_df_final.columns = [col.strip('_mean') for col in recon_loss_result_df_final.columns]\n",
    "    return recon_loss_result_df_final, recon_loss_result_label_df_final"
   ]
  },
  {
   "cell_type": "code",
   "execution_count": 224,
   "id": "30842847",
   "metadata": {},
   "outputs": [],
   "source": [
    "recon_train_df, recon_train_label_df = simulation_recon_result_combining(is_training=True)"
   ]
  },
  {
   "cell_type": "code",
   "execution_count": 446,
   "id": "efb16299",
   "metadata": {},
   "outputs": [
    {
     "data": {
      "image/png": "[encoded data removed]",
      "text/plain": [
       "<IPython.core.display.Image object>"
      ]
     },
     "metadata": {},
     "output_type": "display_data"
    }
   ],
   "source": [
    "%%R -i recon_train_df -i recon_train_label_df\n",
    "\n",
    "heatmap_mat <- as.matrix(recon_train_df)\n",
    "\n",
    "\n",
    "Fig <- pheatmap(mat = heatmap_mat, \n",
    "                scale = 'none',cluster_rows= FALSE,\n",
    "                cluster_cols = FALSE, display_numbers=recon_train_label_df,\n",
    "                gaps_col = c(5,5,5, 10,10,10, 15, 15, 15),\n",
    "                fontsize_number=9,fontsize_col=15, fontsize_row=15)\n",
    "\n",
    "figure_path <- '/home/wangc90/Data_integration/AE_results_folder/avg_recon_loss_training_simulation.svg'\n",
    "\n",
    "ggsave(file=figure_path,plot=Fig[[4]], width=10, height=10)\n",
    "Fig\n"
   ]
  },
  {
   "cell_type": "code",
   "execution_count": 226,
   "id": "77a4938b",
   "metadata": {},
   "outputs": [],
   "source": [
    "recon_test_df, recon_test_label_df = simulation_recon_result_combining(is_training=False)"
   ]
  },
  {
   "cell_type": "code",
   "execution_count": 447,
   "id": "a2bce7ae",
   "metadata": {},
   "outputs": [
    {
     "data": {
      "image/png": "[encoded data removed]",
      "text/plain": [
       "<IPython.core.display.Image object>"
      ]
     },
     "metadata": {},
     "output_type": "display_data"
    }
   ],
   "source": [
    "%%R -i recon_test_df -i recon_test_label_df\n",
    "\n",
    "heatmap_mat <- as.matrix(recon_test_df)\n",
    "\n",
    "\n",
    "Fig <- pheatmap(mat = heatmap_mat, \n",
    "                scale = 'none',cluster_rows= FALSE,\n",
    "                cluster_cols = FALSE, display_numbers=recon_test_label_df,\n",
    "                gaps_col = c(5,5,5, 10,10,10, 15, 15, 15),\n",
    "                fontsize_number=9, fontsize_col=15, fontsize_row=15)\n",
    "\n",
    "figure_path <- '/home/wangc90/Data_integration/AE_results_folder/avg_recon_loss_testing_simulation.svg'\n",
    "\n",
    "ggsave(file=figure_path,plot=Fig[[4]], width=10, height=10)\n",
    "Fig\n"
   ]
  },
  {
   "cell_type": "markdown",
   "id": "e79d19d4",
   "metadata": {},
   "source": [
    "#### collect the classification results on the simulation dataset"
   ]
  },
  {
   "cell_type": "code",
   "execution_count": 291,
   "id": "6a2279dd",
   "metadata": {},
   "outputs": [],
   "source": [
    "def result_extract2(results_dict, setting):\n",
    "    df_mean = pd.DataFrame.from_dict({k:np.mean(list(v.values())) for k, v in results_dict.items() if setting in k}, orient='index')\n",
    "    df_mean.columns = [setting + '_mean']\n",
    "    df_mean.index = ['_'.join(i.split('_')[:2]) for i in df_mean.index]\n",
    "    \n",
    "    df_std = pd.DataFrame.from_dict({k:np.std(list(v.values())) for k, v in results_dict.items() if setting in k}, orient='index')\n",
    "    df_std.columns = [setting + '_std']\n",
    "    df_std.index = ['_'.join(i.split('_')[:2]) for i in df_std.index]\n",
    "    \n",
    "    df = pd.concat([df_mean, df_std], axis=1)\n",
    "    df[setting + '_label'] = [str(round(x, 3)) + ' \\n(' + str(round(y,3)) + ') ' for x, y in zip(df[setting + '_mean'], df[setting + '_std'])]\n",
    "    \n",
    "    ### using df_mean for heatmap value and df[['lables']] for annotation purpose\n",
    "    return df_mean, df[[setting + '_label']]"
   ]
  },
  {
   "cell_type": "code",
   "execution_count": 292,
   "id": "c6ce7f3e",
   "metadata": {},
   "outputs": [],
   "source": [
    "df1, df2 = result_extract2(nb_training_acc, '2_groups_0.2_diff')"
   ]
  },
  {
   "cell_type": "code",
   "execution_count": 293,
   "id": "888d5408",
   "metadata": {},
   "outputs": [
    {
     "data": {
      "text/plain": [
       "(             2_groups_0.2_diff_mean\n",
       " CNC_AE                          1.0\n",
       " X_AE                            1.0\n",
       " MM_AE                           1.0\n",
       " MOCSS_AE                        1.0\n",
       " NonOrtho_AE                     1.0\n",
       " Ortho_AE1                       1.0\n",
       " Ortho_AE2                       1.0\n",
       " Ortho_AE3                       1.0,\n",
       "             2_groups_0.2_diff_label\n",
       " CNC_AE                 1.0 \\n(0.0) \n",
       " X_AE                   1.0 \\n(0.0) \n",
       " MM_AE                  1.0 \\n(0.0) \n",
       " MOCSS_AE               1.0 \\n(0.0) \n",
       " NonOrtho_AE            1.0 \\n(0.0) \n",
       " Ortho_AE1              1.0 \\n(0.0) \n",
       " Ortho_AE2              1.0 \\n(0.0) \n",
       " Ortho_AE3              1.0 \\n(0.0) )"
      ]
     },
     "execution_count": 293,
     "metadata": {},
     "output_type": "execute_result"
    }
   ],
   "source": [
    "df1, df2"
   ]
  },
  {
   "cell_type": "code",
   "execution_count": 298,
   "id": "b8be97fc",
   "metadata": {},
   "outputs": [],
   "source": [
    "def simulation_acc_result_combining(is_training):\n",
    "    \n",
    "    '''\n",
    "        combine the extracted recon loss for training and testing on the simulation set\n",
    "    '''\n",
    "    if is_training:\n",
    "        results_dict=nb_training_acc.copy()\n",
    "    else:\n",
    "        results_dict=nb_testing_acc.copy()\n",
    "    \n",
    "    nb_acc_list = []\n",
    "    nb_acc_label_list = []\n",
    "\n",
    "    for group in [2, 3, 4, 5]:\n",
    "        for prop_diff in [0.2, 0.4, 0.6, 0.8, 1]:\n",
    "            setting = f'{group}_groups_{prop_diff}_diff'\n",
    "            df_mean, df_label = result_extract2(results_dict=results_dict, setting=setting)\n",
    "            nb_acc_list.append(df_mean)\n",
    "            nb_acc_label_list.append(df_label)\n",
    "\n",
    "    nb_acc_df = pd.concat(nb_acc_list, axis=1).reset_index()\n",
    "    nb_acc_label_df = pd.concat(nb_acc_label_list, axis=1).reset_index()\n",
    "    ## update the AE names\n",
    "    nb_acc_df['index_update'] = nb_acc_df['index'].apply(lambda X: model_name_dict[X] if X in model_name_dict else X)\n",
    "    nb_acc_label_df['index_update'] = nb_acc_label_df['index'].apply(lambda X: model_name_dict[X] if X in model_name_dict else X)    \n",
    "    \n",
    "    nb_acc_df_final = nb_acc_df.drop(columns=['index']).set_index('index_update')\n",
    "    nb_acc_label_df_final = nb_acc_label_df.drop(columns=['index']).set_index('index_update')\n",
    "    \n",
    "    ## update the column names for recon_loss_result_df_final\n",
    "    nb_acc_df_final.columns = [col.strip('_mean') for col in nb_acc_df_final.columns]\n",
    "    return nb_acc_df_final, nb_acc_label_df_final"
   ]
  },
  {
   "cell_type": "code",
   "execution_count": 299,
   "id": "fcf05be7",
   "metadata": {},
   "outputs": [],
   "source": [
    "nb_training_acc_df, nb_training_acc_label_df = simulation_acc_result_combining(is_training=True)"
   ]
  },
  {
   "cell_type": "code",
   "execution_count": 448,
   "id": "785ec261",
   "metadata": {},
   "outputs": [
    {
     "data": {
      "image/png": "[encoded data removed]",
      "text/plain": [
       "<IPython.core.display.Image object>"
      ]
     },
     "metadata": {},
     "output_type": "display_data"
    }
   ],
   "source": [
    "%%R -i nb_training_acc_df -i nb_training_acc_label_df\n",
    "\n",
    "heatmap_mat <- as.matrix(nb_training_acc_df)\n",
    "\n",
    "\n",
    "Fig <- pheatmap(mat = heatmap_mat, \n",
    "                scale = 'none',cluster_rows= FALSE,\n",
    "                cluster_cols = FALSE, display_numbers=nb_training_acc_label_df,\n",
    "                gaps_col = c(5,5,5, 10,10,10, 15, 15, 15),\n",
    "                fontsize_number=9, fontsize_col=15, fontsize_row=15)\n",
    "\n",
    "figure_path <- '/home/wangc90/Data_integration/AE_results_folder/avg_nb_acc_training_simulation.svg'\n",
    "\n",
    "ggsave(file=figure_path,plot=Fig[[4]], width=10, height=10)\n",
    "Fig\n"
   ]
  },
  {
   "cell_type": "code",
   "execution_count": 301,
   "id": "52135b54",
   "metadata": {},
   "outputs": [],
   "source": [
    "nb_testing_acc_df, nb_testing_acc_label_df = simulation_acc_result_combining(is_training=False)"
   ]
  },
  {
   "cell_type": "code",
   "execution_count": 449,
   "id": "46b6017f",
   "metadata": {},
   "outputs": [
    {
     "data": {
      "image/png": "[encoded data removed]",
      "text/plain": [
       "<IPython.core.display.Image object>"
      ]
     },
     "metadata": {},
     "output_type": "display_data"
    }
   ],
   "source": [
    "%%R -i nb_testing_acc_df -i nb_testing_acc_label_df\n",
    "\n",
    "heatmap_mat <- as.matrix(nb_testing_acc_df)\n",
    "\n",
    "\n",
    "Fig <- pheatmap(mat = heatmap_mat, \n",
    "                scale = 'none',cluster_rows= FALSE,\n",
    "                cluster_cols = FALSE, display_numbers=nb_testing_acc_label_df,\n",
    "                gaps_col = c(5,5,5, 10,10,10, 15, 15, 15),\n",
    "                fontsize_number=9, fontsize_col=15, fontsize_row=15)\n",
    "\n",
    "figure_path <- '/home/wangc90/Data_integration/AE_results_folder/avg_nb_acc_testing_simulation.svg'\n",
    "\n",
    "ggsave(file=figure_path,plot=Fig[[4]], width=10, height=10)\n",
    "Fig"
   ]
  },
  {
   "cell_type": "code",
   "execution_count": null,
   "id": "cd9fd2a4",
   "metadata": {},
   "outputs": [],
   "source": []
  },
  {
   "cell_type": "markdown",
   "id": "bf6a7f40",
   "metadata": {},
   "source": [
    "## TCGA results start from here"
   ]
  },
  {
   "cell_type": "markdown",
   "id": "711e133b",
   "metadata": {},
   "source": [
    "### 4 Optimal hyperparameters of AE models for the TCGA dataset"
   ]
  },
  {
   "cell_type": "code",
   "execution_count": 304,
   "id": "d8ff5ceb",
   "metadata": {},
   "outputs": [],
   "source": [
    "model_selection_folder = '/home/wangc90/Data_integration/TCGA_model_outputs/model_selection_outputs/'"
   ]
  },
  {
   "cell_type": "code",
   "execution_count": 305,
   "id": "3e72c6d2",
   "metadata": {},
   "outputs": [],
   "source": [
    "def get_optimal_hypers(AE_model):\n",
    "    \n",
    "    '''\n",
    "        This is a simple function the extract the optimal hyperparameter set for a given \n",
    "        AE models corresponding with lowerest average reconstruction loss\n",
    "    '''\n",
    "    optuna_path = model_selection_folder + AE_model + '/optuna/optuna.csv'\n",
    "    \n",
    "    optuna_df = pd.read_csv(optuna_path, sep='\\t')\n",
    "    optuna_df.rename(columns={\"value\": \"recon_loss\"}, inplace=True)\n",
    "    optimal_pars = optuna_df.sort_values(by='recon_loss', ascending=True).head(1).T.reset_index()\n",
    "    optimal_pars.columns = ['index', 'best_trial_value']\n",
    "    optimal_pars['pars'] =optimal_pars['index'].apply(lambda X: X.replace('params_', ''))\n",
    "    final_df = optimal_pars[['pars', 'best_trial_value']].set_index('pars')\n",
    "    return final_df"
   ]
  },
  {
   "cell_type": "code",
   "execution_count": 306,
   "id": "4b5382e6",
   "metadata": {},
   "outputs": [],
   "source": [
    "cnc_ae = get_optimal_hypers(AE_model='CNC_AE')\n",
    "x_ae = get_optimal_hypers(AE_model='X_AE')\n",
    "mm_ae = get_optimal_hypers(AE_model='MM_AE')\n",
    "ortho_ae_1 = get_optimal_hypers(AE_model='Ortho_AE_1')\n",
    "ortho_ae_2 = get_optimal_hypers(AE_model='Ortho_AE_2')\n",
    "ortho_ae_3 = get_optimal_hypers(AE_model='Ortho_AE_3')\n",
    "nonortho_ae = get_optimal_hypers(AE_model='NonOrtho_AE')\n",
    "mocss_ae = get_optimal_hypers(AE_model='MOCSS_AE')"
   ]
  },
  {
   "cell_type": "code",
   "execution_count": 307,
   "id": "89265411",
   "metadata": {},
   "outputs": [
    {
     "data": {
      "text/plain": [
       "54"
      ]
     },
     "execution_count": 307,
     "metadata": {},
     "output_type": "execute_result"
    }
   ],
   "source": [
    "len(cnc_ae.index.union(x_ae.index).union(mm_ae.index).union(ortho_ae_1.index).union(ortho_ae_2.index).union(ortho_ae_3.index).union(nonortho_ae.index).union(mocss_ae.index))"
   ]
  },
  {
   "cell_type": "code",
   "execution_count": 308,
   "id": "cf406546",
   "metadata": {},
   "outputs": [],
   "source": [
    "optimal_hypers_dict = {'CNC_AE': cnc_ae, 'X_AE': x_ae, 'MM_AE':mm_ae, 'Ortho_AE_1':ortho_ae_1,\n",
    "                       'Ortho_AE_2': ortho_ae_2, 'Ortho_AE_3': ortho_ae_3, 'NonOrtho_AE': nonortho_ae,\n",
    "                       'MOCSS': mocss_ae}\n",
    "\n",
    "optimal_hypers_df = pd.concat(optimal_hypers_dict, axis=1)\n",
    "\n",
    "optimal_hypers_df.columns = ['_'.join(col) for col in optimal_hypers_df.columns.values]\n",
    "\n",
    "optimal_hypers_df.columns = [col.replace('_best_trial_value', '') for col in optimal_hypers_df.columns]"
   ]
  },
  {
   "cell_type": "code",
   "execution_count": 309,
   "id": "a336d5f0",
   "metadata": {},
   "outputs": [],
   "source": [
    "optimal_hypers_df = optimal_hypers_df.applymap(lambda X: format_cell(X))\n",
    "optimal_hypers_df.to_csv('/home/wangc90/Data_integration/AE_results_folder/optimal_hypers_tcga.csv',\n",
    "                    sep=',')"
   ]
  },
  {
   "cell_type": "code",
   "execution_count": 310,
   "id": "08db47ee",
   "metadata": {},
   "outputs": [],
   "source": [
    "# optimal_hypers_df_format = optimal_hypers_df.applymap(lambda X: format_cell(X))\n",
    "\n",
    "# optimal_hypers_latex = optimal_hypers_df_format.reset_index().to_latex(index=False)\n",
    "\n",
    "# print(optimal_hypers_latex)"
   ]
  },
  {
   "cell_type": "markdown",
   "id": "c62a86a6",
   "metadata": {},
   "source": [
    "### 5 Corresponding lowest 5-fold CV recon loss for TCGA dataset"
   ]
  },
  {
   "cell_type": "code",
   "execution_count": 311,
   "id": "811efc4d",
   "metadata": {},
   "outputs": [],
   "source": [
    "%%R\n",
    "### R function to get the best average cv in each setting\n",
    "cv_sum = function(data, model_type){  \n",
    "  \n",
    "  data1 <- data %>%\n",
    "  rename(trial_num=V1, cv1=V2, cv2=V3, cv3=V4, cv4=V5, cv5=V6)\n",
    "    \n",
    "  row_means = rowMeans(data1[, c('cv1', 'cv2', 'cv3', 'cv4', 'cv5')])\n",
    "  best_cv = data1[which.min(row_means), ]\n",
    "  best_cv['model_type'] = model_type\n",
    "    return(best_cv)\n",
    "} "
   ]
  },
  {
   "cell_type": "code",
   "execution_count": 312,
   "id": "6dd30395",
   "metadata": {},
   "outputs": [],
   "source": [
    "%%R -o cv_val_loss_\n",
    "CNC_AE_val_loss = read.csv('/home/wangc90/Data_integration/TCGA_model_outputs/model_selection_outputs/CNC_AE/val_loss/val_loss.csv', header=F, sep='\\t')\n",
    "X_AE_val_loss = read.csv('/home/wangc90/Data_integration/TCGA_model_outputs/model_selection_outputs/X_AE/val_loss/val_loss.csv', header=F, sep='\\t')\n",
    "MM_AE_val_loss = read.csv('/home/wangc90/Data_integration/TCGA_model_outputs/model_selection_outputs/MM_AE/val_loss/val_loss.csv', header=F, sep='\\t')\n",
    "NonOrtho_AE_val_loss = read.csv('/home/wangc90/Data_integration/TCGA_model_outputs/model_selection_outputs/NonOrtho_AE/val_loss/val_loss.csv', header=F, sep='\\t')\n",
    "Ortho_AE_val_loss = read.csv('/home/wangc90/Data_integration/TCGA_model_outputs/model_selection_outputs/Ortho_AE_1/val_loss/val_loss.csv', header=F, sep='\\t')\n",
    "Ortho_AE_2_val_loss = read.csv('/home/wangc90/Data_integration/TCGA_model_outputs/model_selection_outputs/Ortho_AE_2/val_loss/val_loss.csv', header=F, sep='\\t')\n",
    "Ortho_AE_3_val_loss = read.csv('/home/wangc90/Data_integration/TCGA_model_outputs/model_selection_outputs/Ortho_AE_3/val_loss/val_loss.csv', header=F, sep='\\t')\n",
    "MOCSS_val_loss = read.csv('/home/wangc90/Data_integration/TCGA_model_outputs/model_selection_outputs/MOCSS_AE/val_loss/val_loss.csv', header=F, sep='\\t')\n",
    "\n",
    "\n",
    "cv_val_loss = as.data.frame(bind_rows(cv_sum(data = CNC_AE_val_loss, model_type = 'CNC_AE'),\n",
    "          cv_sum(data = X_AE_val_loss, model_type = 'X_AE'),\n",
    "          cv_sum(data = MM_AE_val_loss, model_type = 'MM_AE'),\n",
    "          cv_sum(data = NonOrtho_AE_val_loss, model_type = 'JISAE'),\n",
    "          cv_sum(data = Ortho_AE_val_loss, model_type = 'JISAE-O1'),\n",
    "          cv_sum(data = Ortho_AE_2_val_loss, model_type = 'JISAE-O2'),\n",
    "          cv_sum(data = Ortho_AE_3_val_loss, model_type = 'JISAE-O3'),\n",
    "#           cv_sum(data = MOCSS_val_loss, model_type = 'MOCSS'),\n",
    "         ))\n",
    "\n",
    "\n",
    "cv_val_loss$model_type = factor(cv_val_loss$model_type, levels = c(c('CNC_AE', 'X_AE', 'MM_AE', 'JISAE','JISAE-O1',\n",
    "                                                                    'JISAE-O2', 'JISAE-O3',\n",
    "                                                                    'MOCSS')))\n",
    "\n",
    "cv_val_loss_ = cv_val_loss %>%\n",
    "pivot_longer(cols = c(cv1, cv2, cv3, cv4, cv5),\n",
    "               names_to = \"cv_num\",\n",
    "               values_to = \"cv_recon_loss\")"
   ]
  },
  {
   "cell_type": "code",
   "execution_count": 313,
   "id": "47571fef",
   "metadata": {},
   "outputs": [
    {
     "data": {
      "text/plain": [
       "['CNC_AE', 'X_AE', 'MM_AE', 'JISAE', 'JISAE-O1', 'JISAE-O2', 'JISAE-O3']\n",
       "Categories (8, object): ['CNC_AE', 'X_AE', 'MM_AE', 'JISAE', 'JISAE-O1', 'JISAE-O2', 'JISAE-O3', 'MOCSS']"
      ]
     },
     "execution_count": 313,
     "metadata": {},
     "output_type": "execute_result"
    }
   ],
   "source": [
    "cv_val_loss_['model_type'].unique()"
   ]
  },
  {
   "cell_type": "code",
   "execution_count": 314,
   "id": "77044a3b",
   "metadata": {},
   "outputs": [
    {
     "data": {
      "text/html": [
       "<div>\n",
       "<style scoped>\n",
       "    .dataframe tbody tr th:only-of-type {\n",
       "        vertical-align: middle;\n",
       "    }\n",
       "\n",
       "    .dataframe tbody tr th {\n",
       "        vertical-align: top;\n",
       "    }\n",
       "\n",
       "    .dataframe thead th {\n",
       "        text-align: right;\n",
       "    }\n",
       "</style>\n",
       "<table border=\"1\" class=\"dataframe\">\n",
       "  <thead>\n",
       "    <tr style=\"text-align: right;\">\n",
       "      <th></th>\n",
       "      <th>trial_num</th>\n",
       "      <th>model_type</th>\n",
       "      <th>cv_num</th>\n",
       "      <th>cv_recon_loss</th>\n",
       "    </tr>\n",
       "  </thead>\n",
       "  <tbody>\n",
       "    <tr>\n",
       "      <th>1</th>\n",
       "      <td>trial92</td>\n",
       "      <td>CNC_AE</td>\n",
       "      <td>cv1</td>\n",
       "      <td>0.081182</td>\n",
       "    </tr>\n",
       "    <tr>\n",
       "      <th>2</th>\n",
       "      <td>trial92</td>\n",
       "      <td>CNC_AE</td>\n",
       "      <td>cv2</td>\n",
       "      <td>0.081267</td>\n",
       "    </tr>\n",
       "    <tr>\n",
       "      <th>3</th>\n",
       "      <td>trial92</td>\n",
       "      <td>CNC_AE</td>\n",
       "      <td>cv3</td>\n",
       "      <td>0.081082</td>\n",
       "    </tr>\n",
       "    <tr>\n",
       "      <th>4</th>\n",
       "      <td>trial92</td>\n",
       "      <td>CNC_AE</td>\n",
       "      <td>cv4</td>\n",
       "      <td>0.080883</td>\n",
       "    </tr>\n",
       "    <tr>\n",
       "      <th>5</th>\n",
       "      <td>trial92</td>\n",
       "      <td>CNC_AE</td>\n",
       "      <td>cv5</td>\n",
       "      <td>0.081141</td>\n",
       "    </tr>\n",
       "    <tr>\n",
       "      <th>6</th>\n",
       "      <td>trial92</td>\n",
       "      <td>X_AE</td>\n",
       "      <td>cv1</td>\n",
       "      <td>0.080593</td>\n",
       "    </tr>\n",
       "    <tr>\n",
       "      <th>7</th>\n",
       "      <td>trial92</td>\n",
       "      <td>X_AE</td>\n",
       "      <td>cv2</td>\n",
       "      <td>0.080605</td>\n",
       "    </tr>\n",
       "    <tr>\n",
       "      <th>8</th>\n",
       "      <td>trial92</td>\n",
       "      <td>X_AE</td>\n",
       "      <td>cv3</td>\n",
       "      <td>0.078907</td>\n",
       "    </tr>\n",
       "    <tr>\n",
       "      <th>9</th>\n",
       "      <td>trial92</td>\n",
       "      <td>X_AE</td>\n",
       "      <td>cv4</td>\n",
       "      <td>0.080469</td>\n",
       "    </tr>\n",
       "    <tr>\n",
       "      <th>10</th>\n",
       "      <td>trial92</td>\n",
       "      <td>X_AE</td>\n",
       "      <td>cv5</td>\n",
       "      <td>0.080451</td>\n",
       "    </tr>\n",
       "    <tr>\n",
       "      <th>11</th>\n",
       "      <td>trial84</td>\n",
       "      <td>MM_AE</td>\n",
       "      <td>cv1</td>\n",
       "      <td>0.082079</td>\n",
       "    </tr>\n",
       "    <tr>\n",
       "      <th>12</th>\n",
       "      <td>trial84</td>\n",
       "      <td>MM_AE</td>\n",
       "      <td>cv2</td>\n",
       "      <td>0.081692</td>\n",
       "    </tr>\n",
       "    <tr>\n",
       "      <th>13</th>\n",
       "      <td>trial84</td>\n",
       "      <td>MM_AE</td>\n",
       "      <td>cv3</td>\n",
       "      <td>0.080957</td>\n",
       "    </tr>\n",
       "    <tr>\n",
       "      <th>14</th>\n",
       "      <td>trial84</td>\n",
       "      <td>MM_AE</td>\n",
       "      <td>cv4</td>\n",
       "      <td>0.081944</td>\n",
       "    </tr>\n",
       "    <tr>\n",
       "      <th>15</th>\n",
       "      <td>trial84</td>\n",
       "      <td>MM_AE</td>\n",
       "      <td>cv5</td>\n",
       "      <td>0.081259</td>\n",
       "    </tr>\n",
       "    <tr>\n",
       "      <th>16</th>\n",
       "      <td>trial77</td>\n",
       "      <td>JISAE</td>\n",
       "      <td>cv1</td>\n",
       "      <td>0.079530</td>\n",
       "    </tr>\n",
       "    <tr>\n",
       "      <th>17</th>\n",
       "      <td>trial77</td>\n",
       "      <td>JISAE</td>\n",
       "      <td>cv2</td>\n",
       "      <td>0.079617</td>\n",
       "    </tr>\n",
       "    <tr>\n",
       "      <th>18</th>\n",
       "      <td>trial77</td>\n",
       "      <td>JISAE</td>\n",
       "      <td>cv3</td>\n",
       "      <td>0.078905</td>\n",
       "    </tr>\n",
       "    <tr>\n",
       "      <th>19</th>\n",
       "      <td>trial77</td>\n",
       "      <td>JISAE</td>\n",
       "      <td>cv4</td>\n",
       "      <td>0.078799</td>\n",
       "    </tr>\n",
       "    <tr>\n",
       "      <th>20</th>\n",
       "      <td>trial77</td>\n",
       "      <td>JISAE</td>\n",
       "      <td>cv5</td>\n",
       "      <td>0.079721</td>\n",
       "    </tr>\n",
       "    <tr>\n",
       "      <th>21</th>\n",
       "      <td>trial43</td>\n",
       "      <td>JISAE-O1</td>\n",
       "      <td>cv1</td>\n",
       "      <td>0.078513</td>\n",
       "    </tr>\n",
       "    <tr>\n",
       "      <th>22</th>\n",
       "      <td>trial43</td>\n",
       "      <td>JISAE-O1</td>\n",
       "      <td>cv2</td>\n",
       "      <td>0.078593</td>\n",
       "    </tr>\n",
       "    <tr>\n",
       "      <th>23</th>\n",
       "      <td>trial43</td>\n",
       "      <td>JISAE-O1</td>\n",
       "      <td>cv3</td>\n",
       "      <td>0.078786</td>\n",
       "    </tr>\n",
       "    <tr>\n",
       "      <th>24</th>\n",
       "      <td>trial43</td>\n",
       "      <td>JISAE-O1</td>\n",
       "      <td>cv4</td>\n",
       "      <td>0.079291</td>\n",
       "    </tr>\n",
       "    <tr>\n",
       "      <th>25</th>\n",
       "      <td>trial43</td>\n",
       "      <td>JISAE-O1</td>\n",
       "      <td>cv5</td>\n",
       "      <td>0.078599</td>\n",
       "    </tr>\n",
       "    <tr>\n",
       "      <th>26</th>\n",
       "      <td>trial96</td>\n",
       "      <td>JISAE-O2</td>\n",
       "      <td>cv1</td>\n",
       "      <td>0.078500</td>\n",
       "    </tr>\n",
       "    <tr>\n",
       "      <th>27</th>\n",
       "      <td>trial96</td>\n",
       "      <td>JISAE-O2</td>\n",
       "      <td>cv2</td>\n",
       "      <td>0.078351</td>\n",
       "    </tr>\n",
       "    <tr>\n",
       "      <th>28</th>\n",
       "      <td>trial96</td>\n",
       "      <td>JISAE-O2</td>\n",
       "      <td>cv3</td>\n",
       "      <td>0.079483</td>\n",
       "    </tr>\n",
       "    <tr>\n",
       "      <th>29</th>\n",
       "      <td>trial96</td>\n",
       "      <td>JISAE-O2</td>\n",
       "      <td>cv4</td>\n",
       "      <td>0.078801</td>\n",
       "    </tr>\n",
       "    <tr>\n",
       "      <th>30</th>\n",
       "      <td>trial96</td>\n",
       "      <td>JISAE-O2</td>\n",
       "      <td>cv5</td>\n",
       "      <td>0.079857</td>\n",
       "    </tr>\n",
       "    <tr>\n",
       "      <th>31</th>\n",
       "      <td>trial93</td>\n",
       "      <td>JISAE-O3</td>\n",
       "      <td>cv1</td>\n",
       "      <td>0.081451</td>\n",
       "    </tr>\n",
       "    <tr>\n",
       "      <th>32</th>\n",
       "      <td>trial93</td>\n",
       "      <td>JISAE-O3</td>\n",
       "      <td>cv2</td>\n",
       "      <td>0.083080</td>\n",
       "    </tr>\n",
       "    <tr>\n",
       "      <th>33</th>\n",
       "      <td>trial93</td>\n",
       "      <td>JISAE-O3</td>\n",
       "      <td>cv3</td>\n",
       "      <td>0.082042</td>\n",
       "    </tr>\n",
       "    <tr>\n",
       "      <th>34</th>\n",
       "      <td>trial93</td>\n",
       "      <td>JISAE-O3</td>\n",
       "      <td>cv4</td>\n",
       "      <td>0.081441</td>\n",
       "    </tr>\n",
       "    <tr>\n",
       "      <th>35</th>\n",
       "      <td>trial93</td>\n",
       "      <td>JISAE-O3</td>\n",
       "      <td>cv5</td>\n",
       "      <td>0.081638</td>\n",
       "    </tr>\n",
       "  </tbody>\n",
       "</table>\n",
       "</div>"
      ],
      "text/plain": [
       "   trial_num model_type cv_num  cv_recon_loss\n",
       "1    trial92     CNC_AE    cv1       0.081182\n",
       "2    trial92     CNC_AE    cv2       0.081267\n",
       "3    trial92     CNC_AE    cv3       0.081082\n",
       "4    trial92     CNC_AE    cv4       0.080883\n",
       "5    trial92     CNC_AE    cv5       0.081141\n",
       "6    trial92       X_AE    cv1       0.080593\n",
       "7    trial92       X_AE    cv2       0.080605\n",
       "8    trial92       X_AE    cv3       0.078907\n",
       "9    trial92       X_AE    cv4       0.080469\n",
       "10   trial92       X_AE    cv5       0.080451\n",
       "11   trial84      MM_AE    cv1       0.082079\n",
       "12   trial84      MM_AE    cv2       0.081692\n",
       "13   trial84      MM_AE    cv3       0.080957\n",
       "14   trial84      MM_AE    cv4       0.081944\n",
       "15   trial84      MM_AE    cv5       0.081259\n",
       "16   trial77      JISAE    cv1       0.079530\n",
       "17   trial77      JISAE    cv2       0.079617\n",
       "18   trial77      JISAE    cv3       0.078905\n",
       "19   trial77      JISAE    cv4       0.078799\n",
       "20   trial77      JISAE    cv5       0.079721\n",
       "21   trial43   JISAE-O1    cv1       0.078513\n",
       "22   trial43   JISAE-O1    cv2       0.078593\n",
       "23   trial43   JISAE-O1    cv3       0.078786\n",
       "24   trial43   JISAE-O1    cv4       0.079291\n",
       "25   trial43   JISAE-O1    cv5       0.078599\n",
       "26   trial96   JISAE-O2    cv1       0.078500\n",
       "27   trial96   JISAE-O2    cv2       0.078351\n",
       "28   trial96   JISAE-O2    cv3       0.079483\n",
       "29   trial96   JISAE-O2    cv4       0.078801\n",
       "30   trial96   JISAE-O2    cv5       0.079857\n",
       "31   trial93   JISAE-O3    cv1       0.081451\n",
       "32   trial93   JISAE-O3    cv2       0.083080\n",
       "33   trial93   JISAE-O3    cv3       0.082042\n",
       "34   trial93   JISAE-O3    cv4       0.081441\n",
       "35   trial93   JISAE-O3    cv5       0.081638"
      ]
     },
     "execution_count": 314,
     "metadata": {},
     "output_type": "execute_result"
    }
   ],
   "source": [
    "cv_val_loss_"
   ]
  },
  {
   "cell_type": "code",
   "execution_count": 315,
   "id": "99be39a3",
   "metadata": {},
   "outputs": [
    {
     "data": {
      "image/png": "[encoded data removed]",
      "text/plain": [
       "<IPython.core.display.Image object>"
      ]
     },
     "metadata": {},
     "output_type": "display_data"
    }
   ],
   "source": [
    "%%R -i cv_val_loss_\n",
    "\n",
    "p1 <- ggplot(cv_val_loss_, aes(x = model_type, y = cv_recon_loss, fill = model_type)) +\n",
    "    geom_bar(position = 'dodge', stat = 'summary', fun=mean) +\n",
    "    geom_text(aes(label = after_stat(round(y, 4))), stat = \"summary\", fun = \"mean\", vjust = -1.5 , size=8) +\n",
    "    geom_point(aes(x = model_type), position = \n",
    "           position_jitterdodge(jitter.width = 0.5, jitter.height=0, \n",
    "                                dodge.width=1), size=5, color='black') +\n",
    "    scale_y_continuous(breaks = seq(0, 0.2, 0.01), expand = expansion(mult = c(0, 0.1))) +\n",
    "      labs(x='',\n",
    "           y='5-fold cross validation reconstruction loss',\n",
    "           fill='Model types') +\n",
    "      scale_fill_manual('Model types', values = c(\"#117733\", \"#332288\", \"#AA4499\", \n",
    "                                 \"#44AA99\", \"#999933\", \"#882255\", \"#661100\", \"#6699CC\", \"#888888\")) +\n",
    "      theme_classic() +\n",
    "      theme(legend.position = \"None\",\n",
    "            legend.title = element_text(size = 22),\n",
    "            legend.text = element_text(size = 18),\n",
    "            axis.text.x = element_text(angle = 0, size = 18),\n",
    "            axis.text.y = element_text(size = 22),\n",
    "            axis.title = element_text(size = 22))\n",
    "\n",
    "ggsave(filename=file.path('/home/wangc90/Data_integration/AE_results_folder/5_fold_cv_recon_loss_tcga.pdf'),\n",
    "       width=15, height=15, plot=p1)\n",
    "p1"
   ]
  },
  {
   "cell_type": "code",
   "execution_count": 250,
   "id": "afe8dc7f",
   "metadata": {},
   "outputs": [],
   "source": []
  },
  {
   "cell_type": "markdown",
   "id": "cbb5056b",
   "metadata": {},
   "source": [
    "### 6 Recon loss and classification accuracy for retrained AE models on cancer dataset (recon loss is in table)"
   ]
  },
  {
   "cell_type": "code",
   "execution_count": 262,
   "id": "9a02d916",
   "metadata": {},
   "outputs": [],
   "source": []
  },
  {
   "cell_type": "markdown",
   "id": "40b2373f",
   "metadata": {},
   "source": [
    "### Get the reconstruction loss for tcga dataset"
   ]
  },
  {
   "cell_type": "code",
   "execution_count": 316,
   "id": "7c27c457",
   "metadata": {},
   "outputs": [],
   "source": [
    "import torch\n",
    "from torch.utils.data import Dataset, DataLoader, SubsetRandomSampler, random_split\n",
    "import torch.optim as optim\n",
    "import pandas as pd\n",
    "import numpy as np\n",
    "import os\n",
    "import random\n",
    "from collections import defaultdict, Counter\n",
    "import torch.nn as nn\n",
    "import torch.nn.functional as F\n",
    "from sklearn.model_selection import KFold\n",
    "import optuna\n",
    "from torchmetrics.classification import F1Score\n",
    "import pickle\n",
    "import sys\n",
    "import warnings\n",
    "warnings.filterwarnings(\"ignore\")\n",
    "import random\n",
    "from sklearn.model_selection import ShuffleSplit\n",
    "from sklearn.cluster import KMeans,DBSCAN,Birch\n",
    "import matplotlib.pyplot as plt\n",
    "from sklearn.metrics import normalized_mutual_info_score, adjusted_rand_score, v_measure_score\n",
    "\n",
    "sys.path.insert(1, '/home/wangc90/Data_integration/MOCSS/mocss/code/')\n",
    "from critic import LinearCritic\n",
    "# from Supcon import SupConLoss\n",
    "from contrastive_loss import InstanceLoss, ClusterLoss\n",
    "import evaluation\n",
    "from sklearn import metrics\n",
    "from Data_prep import DataSet_Prep, DataSet_construction\n",
    "from tsn_visulization import tsn_data, tsn_plot\n",
    "from reconloss_from_retrained_models import recon_loss\n",
    "random.seed(2023)\n",
    "from embedding_from_retrained_models import embedding_collection\n",
    "torch.manual_seed(2023)\n",
    "from nb_classification import nb_classfication\n"
   ]
  },
  {
   "cell_type": "code",
   "execution_count": 317,
   "id": "32003e5f",
   "metadata": {},
   "outputs": [
    {
     "name": "stdout",
     "output_type": "stream",
     "text": [
      "feature1 and feature2 are being scaled with MinMaxScaler\n",
      "feature1 and feature2 are being scaled with MinMaxScaler\n"
     ]
    }
   ],
   "source": [
    "combined_exp_df = pd.read_csv('/home/wangc90/Data_integration/TCGA_data/TCGA_primary_tumor_data/combined_exp_df.csv', sep='\\t')\n",
    "combined_miRNA_df = pd.read_csv('/home/wangc90/Data_integration/TCGA_data/TCGA_primary_tumor_data/combined_miRNA_df.csv', sep='\\t')\n",
    "\n",
    "labels = pd.read_csv('/home/wangc90/Data_integration/TCGA_data/TCGA_primary_tumor_data/labels.csv', sep='\\t')['0']\n",
    "\n",
    "dataset_prep = DataSet_Prep(data1=combined_exp_df, data2=combined_miRNA_df, label=labels, training_prop=0.8)\n",
    "\n",
    "train_key, test_key = dataset_prep.get_train_test_keys()\n",
    "\n",
    "feature1_tensors, feature2_tensors, label_tensors = dataset_prep.to_tensor(train_key)\n",
    "\n",
    "feature1_tensors_test, feature2_tensors_test, label_tensors_test = dataset_prep.to_tensor(test_key)\n",
    "\n",
    "\n",
    "train_dataset = DataSet_construction(feature1_tensors, feature2_tensors, label_tensors)\n",
    "test_dataset = DataSet_construction(feature1_tensors_test, feature2_tensors_test, label_tensors_test)\n",
    "\n",
    "\n",
    "recon_loss_train_result = dict()\n",
    "recon_loss_test_result = dict()"
   ]
  },
  {
   "cell_type": "code",
   "execution_count": 318,
   "id": "3ff6bf21",
   "metadata": {},
   "outputs": [
    {
     "data": {
      "text/plain": [
       "(1494, 372)"
      ]
     },
     "execution_count": 318,
     "metadata": {},
     "output_type": "execute_result"
    }
   ],
   "source": [
    "len(train_dataset), len(test_dataset)"
   ]
  },
  {
   "cell_type": "code",
   "execution_count": 325,
   "id": "518524c4",
   "metadata": {},
   "outputs": [
    {
     "name": "stdout",
     "output_type": "stream",
     "text": [
      "1494\n",
      "372\n"
     ]
    }
   ],
   "source": [
    "from model_structures import CNC_AE, CNC_Decoder, CNC_Encoder\n",
    "\n",
    "CNC_model_path = \"/home/wangc90/Data_integration/TCGA_model_outputs/model_retraining_outputs/CNC_AE_retraining/retrained_model_149.pt\"\n",
    "CNC_model = torch.load(CNC_model_path)\n",
    "\n",
    "\n",
    "### applied the retrain model to entire training set to get the embeddings\n",
    "CNC_recon_loss = recon_loss(model_path=CNC_model_path, data_set=train_dataset, is_SS=False, is_MOCSS=False)\n",
    "\n",
    "CNC_recon_loss_mean = np.mean(CNC_recon_loss)\n",
    "CNC_recon_loss_std = np.std(CNC_recon_loss)\n",
    "\n",
    "CNC_recon_test_loss = recon_loss(model_path=CNC_model_path, data_set=test_dataset, is_SS=False, is_MOCSS=False)\n",
    "\n",
    "CNC_recon_test_loss_mean = np.mean(CNC_recon_test_loss)\n",
    "CNC_recon_test_loss_std = np.std(CNC_recon_test_loss)\n",
    "\n",
    "recon_loss_train_result['CNC_AE_mean'] = round(CNC_recon_loss_mean, 4)\n",
    "recon_loss_train_result['CNC_AE_std'] = round(CNC_recon_loss_std, 4)\n",
    "\n",
    "recon_loss_test_result['CNC_AE_mean'] = round(CNC_recon_test_loss_mean, 4)\n",
    "recon_loss_test_result['CNC_AE_std'] = round(CNC_recon_test_loss_std, 4)\n",
    "\n"
   ]
  },
  {
   "cell_type": "code",
   "execution_count": null,
   "id": "6423a1c0",
   "metadata": {},
   "outputs": [],
   "source": []
  },
  {
   "cell_type": "code",
   "execution_count": 328,
   "id": "d1d22f3a",
   "metadata": {},
   "outputs": [
    {
     "name": "stdout",
     "output_type": "stream",
     "text": [
      "1494\n",
      "372\n"
     ]
    }
   ],
   "source": [
    "from model_structures import X_AE, X_AE_Encoder, X_AE_Decoder\n",
    "\n",
    "X_model_path = \"/home/wangc90/Data_integration/TCGA_model_outputs/model_retraining_outputs/X_AE_retraining/retrained_model_119.pt\"\n",
    "X_model = torch.load(X_model_path)\n",
    "\n",
    "### applied the retrain model to entire training set to get the embeddings\n",
    "X_recon_loss = recon_loss(model_path=X_model_path, data_set=train_dataset, is_SS=False, is_MOCSS=False)\n",
    "\n",
    "X_recon_loss_mean = np.mean(X_recon_loss)\n",
    "X_recon_loss_std = np.std(X_recon_loss)\n",
    "\n",
    "### testing loss\n",
    "X_recon_test_loss = recon_loss(model_path=X_model_path, data_set=test_dataset, is_SS=False, is_MOCSS=False)\n",
    "\n",
    "X_recon_test_loss_mean = np.mean(X_recon_test_loss)\n",
    "X_recon_test_loss_std = np.std(X_recon_test_loss)\n",
    "\n",
    "recon_loss_train_result['X_AE_mean'] = round(X_recon_loss_mean, 4)\n",
    "recon_loss_train_result['X_AE_std'] = round(X_recon_loss_std, 4)\n",
    "\n",
    "recon_loss_test_result['X_AE_mean'] = round(X_recon_test_loss_mean, 4)\n",
    "recon_loss_test_result['X_AE_std'] = round(X_recon_test_loss_std, 4)\n",
    "\n"
   ]
  },
  {
   "cell_type": "code",
   "execution_count": 329,
   "id": "c454d48e",
   "metadata": {},
   "outputs": [
    {
     "name": "stdout",
     "output_type": "stream",
     "text": [
      "1494\n",
      "372\n"
     ]
    }
   ],
   "source": [
    "from model_structures import MM_AE, MM_AE_Encoder, MM_AE_Decoder\n",
    "\n",
    "MM_model_path = \"/home/wangc90/Data_integration/TCGA_model_outputs/model_retraining_outputs/MM_AE_retraining/retrained_model_149.pt\"\n",
    "MM_model = torch.load(MM_model_path)\n",
    "\n",
    "\n",
    "### applied the retrain model to entire training set to get the embeddings\n",
    "MM_recon_loss = recon_loss(model_path=MM_model_path, data_set=train_dataset, is_SS=False, is_MOCSS=False)\n",
    "\n",
    "MM_recon_loss_mean = np.mean(MM_recon_loss)\n",
    "MM_recon_loss_std = np.std(MM_recon_loss)\n",
    "\n",
    "### testing loss\n",
    "MM_recon_test_loss = recon_loss(model_path=MM_model_path, data_set=test_dataset, is_SS=False, is_MOCSS=False)\n",
    "MM_recon_test_loss_mean = np.mean(MM_recon_test_loss)\n",
    "MM_recon_test_loss_std = np.std(MM_recon_test_loss)\n",
    "\n",
    "\n",
    "recon_loss_train_result['MM_AE_mean'] = round(MM_recon_loss_mean, 4)\n",
    "recon_loss_train_result['MM_AE_std'] = round(MM_recon_loss_std, 4)\n",
    "\n",
    "recon_loss_test_result['MM_AE_mean'] = round(MM_recon_test_loss_mean, 4)\n",
    "recon_loss_test_result['MM_AE_std'] = round(MM_recon_test_loss_std, 4)\n"
   ]
  },
  {
   "cell_type": "code",
   "execution_count": 330,
   "id": "25b15a4e",
   "metadata": {},
   "outputs": [
    {
     "name": "stdout",
     "output_type": "stream",
     "text": [
      "1494\n",
      "372\n"
     ]
    }
   ],
   "source": [
    "from model_structures import SS_AE, SS_Decoder, SS_Encoder\n",
    "\n",
    "NonOrtho_model_path = \"/home/wangc90/Data_integration/TCGA_model_outputs/model_retraining_outputs/NonOrtho_retraining/retrained_model_149.pt\"\n",
    "NonOrtho_model = torch.load(NonOrtho_model_path)\n",
    "\n",
    "### applied the retrain model to entire training set to get the embeddings\n",
    "SS_recon_loss = recon_loss(model_path=NonOrtho_model_path, data_set=train_dataset, is_SS=True, is_MOCSS=False)\n",
    "\n",
    "SS_recon_loss_mean = np.mean(SS_recon_loss)\n",
    "SS_recon_loss_std = np.std(SS_recon_loss)\n",
    "\n",
    "### testing loss\n",
    "\n",
    "SS_recon_test_loss = recon_loss(model_path=NonOrtho_model_path, data_set=test_dataset, is_SS=True, is_MOCSS=False)\n",
    "SS_recon_test_loss_mean = np.mean(SS_recon_test_loss)\n",
    "SS_recon_test_loss_std = np.std(SS_recon_test_loss)\n",
    "\n",
    "recon_loss_train_result['NonOrtho_AE_mean'] = round(SS_recon_loss_mean, 4)\n",
    "recon_loss_train_result['NonOrtho_AE_std'] = round(SS_recon_loss_std, 4)\n",
    "\n",
    "recon_loss_test_result['NonOrtho_AE_mean'] = round(SS_recon_test_loss_mean, 4)\n",
    "recon_loss_test_result['NonOrtho_AE_std'] = round(SS_recon_test_loss_std, 4)\n"
   ]
  },
  {
   "cell_type": "code",
   "execution_count": 331,
   "id": "b0c38d69",
   "metadata": {},
   "outputs": [
    {
     "name": "stdout",
     "output_type": "stream",
     "text": [
      "1494\n",
      "372\n"
     ]
    }
   ],
   "source": [
    "from model_structures import SSO_AE, SSO_Encoder, SSO_Decoder\n",
    "\n",
    "Ortho_AE_1_model_path = \"/home/wangc90/Data_integration/TCGA_model_outputs/model_retraining_outputs/Ortho_AE_1_retraining/retrained_model_149.pt\"\n",
    "Ortho_AE_1_model = torch.load(Ortho_AE_1_model_path)\n",
    "\n",
    "### applied the retrain model to entire training set to get the embeddings\n",
    "SSO1_recon_loss = recon_loss(model_path=Ortho_AE_1_model_path, data_set=train_dataset, is_SS=True, is_MOCSS=False)\n",
    "\n",
    "SSO1_recon_loss_mean = np.mean(SSO1_recon_loss)\n",
    "SSO1_recon_loss_std = np.std(SSO1_recon_loss)\n",
    "\n",
    "### testing loss\n",
    "SSO1_recon_test_loss = recon_loss(model_path=Ortho_AE_1_model_path, data_set=test_dataset, is_SS=True, is_MOCSS=False)\n",
    "SSO1_recon_test_loss_mean = np.mean(SSO1_recon_test_loss)\n",
    "SSO1_recon_test_loss_std = np.std(SSO1_recon_test_loss)\n",
    "\n",
    "recon_loss_train_result['Ortho_AE_1_mean'] = round(SSO1_recon_loss_mean, 4)\n",
    "recon_loss_train_result['Ortho_AE_1_std'] = round(SSO1_recon_loss_std, 4)\n",
    "\n",
    "recon_loss_test_result['Ortho_AE_1_mean'] = round(SSO1_recon_test_loss_mean, 4)\n",
    "recon_loss_test_result['Ortho_AE_1_std'] = round(SSO1_recon_test_loss_std, 4)\n"
   ]
  },
  {
   "cell_type": "code",
   "execution_count": 332,
   "id": "b451b1fe",
   "metadata": {},
   "outputs": [
    {
     "name": "stdout",
     "output_type": "stream",
     "text": [
      "1494\n",
      "372\n"
     ]
    }
   ],
   "source": [
    "from model_structures import SSO2_AE, SSO2_Encoder, SSO2_Decoder\n",
    "\n",
    "Ortho_AE_2_model_path = \"/home/wangc90/Data_integration/TCGA_model_outputs/model_retraining_outputs/Ortho_AE_2_retraining/retrained_model_119.pt\"\n",
    "Ortho_AE_2_model = torch.load(Ortho_AE_2_model_path)\n",
    "\n",
    "### applied the retrain model to entire training set to get the embeddings\n",
    "SSO2_recon_loss = recon_loss(model_path=Ortho_AE_2_model_path, data_set=train_dataset, is_SS=True, is_MOCSS=False)\n",
    "SSO2_recon_loss_mean = np.mean(SSO2_recon_loss)\n",
    "SSO2_recon_loss_std = np.std(SSO2_recon_loss)\n",
    "\n",
    "### testing loss\n",
    "SSO2_recon_test_loss = recon_loss(model_path=Ortho_AE_2_model_path, data_set=test_dataset, is_SS=True, is_MOCSS=False)\n",
    "SSO2_recon_test_loss_mean = np.mean(SSO2_recon_test_loss)\n",
    "SSO2_recon_test_loss_std = np.std(SSO2_recon_test_loss)\n",
    "\n",
    "\n",
    "recon_loss_train_result['Ortho_AE_2_mean'] = round(SSO2_recon_loss_mean, 4)\n",
    "recon_loss_train_result['Ortho_AE_2_std'] = round(SSO2_recon_loss_std, 4)\n",
    "\n",
    "recon_loss_test_result['Ortho_AE_2_mean'] = round(SSO2_recon_test_loss_mean, 4)\n",
    "recon_loss_test_result['Ortho_AE_2_std'] = round(SSO2_recon_test_loss_std, 4)\n"
   ]
  },
  {
   "cell_type": "code",
   "execution_count": 333,
   "id": "64539b43",
   "metadata": {},
   "outputs": [
    {
     "name": "stdout",
     "output_type": "stream",
     "text": [
      "1494\n",
      "372\n"
     ]
    }
   ],
   "source": [
    "from model_structures import SSO3_AE, SSO3_Encoder, SSO3_Decoder\n",
    "\n",
    "Ortho_AE_3_model_path = \"/home/wangc90/Data_integration/TCGA_model_outputs/model_retraining_outputs/Ortho_AE_3_retraining/retrained_model_119.pt\"\n",
    "Ortho_AE_3_model = torch.load(Ortho_AE_3_model_path)\n",
    "\n",
    "### applied the retrain model to entire training set to get the embeddings\n",
    "SSO3_recon_loss = recon_loss(model_path=Ortho_AE_3_model_path, data_set=train_dataset, is_SS=True, is_MOCSS=False)\n",
    "SSO3_recon_loss_mean = np.mean(SSO3_recon_loss)\n",
    "SSO3_recon_loss_std = np.std(SSO3_recon_loss)\n",
    "\n",
    "### testing loss\n",
    "SSO3_recon_test_loss = recon_loss(model_path=Ortho_AE_3_model_path, data_set=test_dataset, is_SS=True, is_MOCSS=False)\n",
    "SSO3_recon_test_loss_mean = np.mean(SSO3_recon_test_loss)\n",
    "SSO3_recon_test_loss_std = np.std(SSO3_recon_test_loss)\n",
    "\n",
    "recon_loss_train_result['Ortho_AE_3_mean'] = round(SSO3_recon_loss_mean, 4)\n",
    "recon_loss_train_result['Ortho_AE_3_std'] = round(SSO3_recon_loss_std, 4)\n",
    "\n",
    "recon_loss_test_result['Ortho_AE_3_mean'] = round(SSO3_recon_test_loss_mean, 4)\n",
    "recon_loss_test_result['Ortho_AE_3_std'] = round(SSO3_recon_test_loss_std, 4)\n",
    "\n"
   ]
  },
  {
   "cell_type": "code",
   "execution_count": 334,
   "id": "0e554680",
   "metadata": {},
   "outputs": [
    {
     "name": "stdout",
     "output_type": "stream",
     "text": [
      "1494\n",
      "372\n"
     ]
    }
   ],
   "source": [
    "from model_structures import SharedAndSpecificEmbedding\n",
    "\n",
    "MOCSS_model_path = \"/home/wangc90/Data_integration/TCGA_model_outputs/model_retraining_outputs/MOCSS_AE_retraining/retrained_model_119.pt\"\n",
    "MOCSS_model = torch.load(MOCSS_model_path)\n",
    "\n",
    "### applied the retrain model to entire training set to get the embeddings\n",
    "MOCSS_recon_loss = recon_loss(model_path=MOCSS_model_path, data_set=train_dataset, is_SS=False, is_MOCSS=True)\n",
    "MOCSS_recon_loss_mean = np.mean(MOCSS_recon_loss)\n",
    "MOCSS_recon_loss_std = np.std(MOCSS_recon_loss)\n",
    "\n",
    "### testing loss\n",
    "MOCSS_recon_test_loss = recon_loss(model_path=MOCSS_model_path, data_set=test_dataset, is_SS=False, is_MOCSS=True)\n",
    "MOCSS_recon_test_loss_mean = np.mean(MOCSS_recon_test_loss)\n",
    "MOCSS_recon_test_loss_std = np.std(MOCSS_recon_test_loss)\n",
    "\n",
    "recon_loss_train_result['MOCSS_mean'] = round(MOCSS_recon_loss_mean, 4)\n",
    "recon_loss_train_result['MOCSS_std'] = round(MOCSS_recon_loss_std, 4)\n",
    "\n",
    "recon_loss_test_result['MOCSS_mean'] = round(MOCSS_recon_test_loss_mean, 4)\n",
    "recon_loss_test_result['MOCSS_std'] = round(MOCSS_recon_test_loss_std, 4)\n"
   ]
  },
  {
   "cell_type": "code",
   "execution_count": 335,
   "id": "1361c680",
   "metadata": {},
   "outputs": [
    {
     "data": {
      "text/plain": [
       "{'CNC_AE_mean': 1.1705,\n",
       " 'CNC_AE_std': 0.1356,\n",
       " 'X_AE_mean': 1.1602,\n",
       " 'X_AE_std': 0.1379,\n",
       " 'MM_AE_mean': 1.1487,\n",
       " 'MM_AE_std': 0.1209,\n",
       " 'NonOrtho_AE_mean': 1.0568,\n",
       " 'NonOrtho_AE_std': 0.1187,\n",
       " 'Ortho_AE_1_mean': 0.9618,\n",
       " 'Ortho_AE_1_std': 0.1646,\n",
       " 'Ortho_AE_2_mean': 1.113,\n",
       " 'Ortho_AE_2_std': 0.1564,\n",
       " 'Ortho_AE_3_mean': 1.1939,\n",
       " 'Ortho_AE_3_std': 0.1376,\n",
       " 'MOCSS_mean': 2.4438,\n",
       " 'MOCSS_std': 0.32}"
      ]
     },
     "execution_count": 335,
     "metadata": {},
     "output_type": "execute_result"
    }
   ],
   "source": [
    "recon_loss_train_result"
   ]
  },
  {
   "cell_type": "code",
   "execution_count": 336,
   "id": "25accc90",
   "metadata": {},
   "outputs": [
    {
     "data": {
      "text/plain": [
       "{'CNC_AE_mean': 1.4164,\n",
       " 'CNC_AE_std': 0.1113,\n",
       " 'X_AE_mean': 1.3998,\n",
       " 'X_AE_std': 0.1106,\n",
       " 'MM_AE_mean': 1.4538,\n",
       " 'MM_AE_std': 0.1101,\n",
       " 'NonOrtho_AE_mean': 1.382,\n",
       " 'NonOrtho_AE_std': 0.1104,\n",
       " 'Ortho_AE_1_mean': 1.5178,\n",
       " 'Ortho_AE_1_std': 0.1682,\n",
       " 'Ortho_AE_2_mean': 1.6055,\n",
       " 'Ortho_AE_2_std': 0.1437,\n",
       " 'Ortho_AE_3_mean': 1.4464,\n",
       " 'Ortho_AE_3_std': 0.1316,\n",
       " 'MOCSS_mean': 2.9313,\n",
       " 'MOCSS_std': 0.2453}"
      ]
     },
     "execution_count": 336,
     "metadata": {},
     "output_type": "execute_result"
    }
   ],
   "source": [
    "recon_loss_test_result"
   ]
  },
  {
   "cell_type": "markdown",
   "id": "4a4ae4c1",
   "metadata": {},
   "source": [
    "#### Clustering on the embeddings for the training and testing set"
   ]
  },
  {
   "cell_type": "code",
   "execution_count": 348,
   "id": "205eeef3",
   "metadata": {},
   "outputs": [
    {
     "name": "stdout",
     "output_type": "stream",
     "text": [
      "feature1 and feature2 are being scaled with MinMaxScaler\n",
      "feature1 and feature2 are being scaled with MinMaxScaler\n"
     ]
    }
   ],
   "source": [
    "combined_exp_df = pd.read_csv('/home/wangc90/Data_integration/TCGA_data/TCGA_primary_tumor_data/combined_exp_df.csv', sep='\\t')\n",
    "combined_miRNA_df = pd.read_csv('/home/wangc90/Data_integration/TCGA_data/TCGA_primary_tumor_data/combined_miRNA_df.csv', sep='\\t')\n",
    "\n",
    "labels = pd.read_csv('/home/wangc90/Data_integration/TCGA_data/TCGA_primary_tumor_data/labels.csv', sep='\\t')['0']\n",
    "\n",
    "dataset_prep = DataSet_Prep(data1=combined_exp_df, data2=combined_miRNA_df, label=labels, training_prop=0.8)\n",
    "\n",
    "train_key, test_key = dataset_prep.get_train_test_keys()\n",
    "\n",
    "feature1_tensors_train, feature2_tensors_train, label_tensors_train = dataset_prep.to_tensor(train_key)\n",
    "train_dataset = DataSet_construction(feature1_tensors_train, feature2_tensors_train, label_tensors_train)\n",
    "\n",
    "feature1_train = feature1_tensors_train.cpu().detach().numpy()\n",
    "feature2_train = feature2_tensors_train.cpu().detach().numpy()\n",
    "feature12_train = np.concatenate((feature1_train, feature2_train), axis=1)\n",
    "\n",
    "labels_train = label_tensors_train.cpu().detach().numpy()\n",
    "\n",
    "feature1_tensors_test, feature2_tensors_test, label_tensors_test = dataset_prep.to_tensor(test_key)\n",
    "test_dataset = DataSet_construction(feature1_tensors_test, feature2_tensors_test, label_tensors_test)\n",
    "\n",
    "feature1_test = feature1_tensors_test.cpu().detach().numpy()\n",
    "feature2_test = feature2_tensors_test.cpu().detach().numpy()\n",
    "feature12_test = np.concatenate((feature1_test, feature2_test), axis=1)\n",
    "\n",
    "labels_test = label_tensors_test.cpu().detach().numpy()"
   ]
  },
  {
   "cell_type": "code",
   "execution_count": 349,
   "id": "a7d395ba",
   "metadata": {},
   "outputs": [],
   "source": [
    "# tsn_plot(tsn_data(feature1_train, label=labels_train))"
   ]
  },
  {
   "cell_type": "code",
   "execution_count": 350,
   "id": "3af64d68",
   "metadata": {},
   "outputs": [],
   "source": [
    "# tsn_plot(tsn_data(feature1_test, label=labels_test))"
   ]
  },
  {
   "cell_type": "code",
   "execution_count": 351,
   "id": "51340703",
   "metadata": {},
   "outputs": [],
   "source": [
    "# tsn_plot(tsn_data(feature2_train, label=labels_train))"
   ]
  },
  {
   "cell_type": "code",
   "execution_count": 352,
   "id": "a676a07d",
   "metadata": {},
   "outputs": [],
   "source": [
    "# tsn_plot(tsn_data(feature2_test, label=labels_test))"
   ]
  },
  {
   "cell_type": "code",
   "execution_count": 353,
   "id": "96edaccd",
   "metadata": {},
   "outputs": [],
   "source": [
    "# tsn_plot(tsn_data(feature12_train, label=labels_train))"
   ]
  },
  {
   "cell_type": "code",
   "execution_count": 354,
   "id": "af73d2b1",
   "metadata": {},
   "outputs": [],
   "source": [
    "# tsn_plot(tsn_data(feature12_test, label=labels_test))"
   ]
  },
  {
   "cell_type": "code",
   "execution_count": 355,
   "id": "d2a15811",
   "metadata": {},
   "outputs": [
    {
     "data": {
      "text/plain": [
       "((1494, 32), (1494,))"
      ]
     },
     "execution_count": 355,
     "metadata": {},
     "output_type": "execute_result"
    }
   ],
   "source": [
    "### applied the retrained model to entire training set to get the embeddings\n",
    "cnc_embedding_train, cnc_labels_train = embedding_collection(model_path=CNC_model_path, data_set=train_dataset, is_SS=False, is_MOCSS=False)\n",
    "\n",
    "cnc_embedding_train.shape, cnc_labels_train.shape\n",
    "# tsn_plot(tsn_data(cnc_embedding, label=cnc_labels))"
   ]
  },
  {
   "cell_type": "code",
   "execution_count": 356,
   "id": "11075ecb",
   "metadata": {},
   "outputs": [
    {
     "data": {
      "text/plain": [
       "((372, 32), (372,))"
      ]
     },
     "execution_count": 356,
     "metadata": {},
     "output_type": "execute_result"
    }
   ],
   "source": [
    "### applied the retrained model to entire training set to get the embeddings\n",
    "cnc_embedding_test, cnc_labels_test = embedding_collection(model_path=CNC_model_path, data_set=test_dataset, is_SS=False, is_MOCSS=False)\n",
    "\n",
    "cnc_embedding_test.shape, cnc_labels_test.shape\n",
    "# tsn_plot(tsn_data(cnc_embedding, label=cnc_labels))"
   ]
  },
  {
   "cell_type": "code",
   "execution_count": 357,
   "id": "dcf4a1ad",
   "metadata": {},
   "outputs": [
    {
     "data": {
      "text/plain": [
       "((1494, 256), (1494,))"
      ]
     },
     "execution_count": 357,
     "metadata": {},
     "output_type": "execute_result"
    }
   ],
   "source": [
    "### applied the retrain model to entire training set to get the embeddings\n",
    "x_embedding_train, x_labels_train = embedding_collection(model_path=X_model_path, data_set=train_dataset, is_SS=False, is_MOCSS=False)\n",
    "\n",
    "x_embedding_train.shape, x_labels_train.shape\n",
    "\n",
    "# # tsn_plot(tsn_data(x_embedding, label=x_labels))\n",
    "# tsn_data_ = tsn_data(x_embedding, label=x_labels)\n",
    "\n",
    "# #### two datapoints were removed \n",
    "# print(sum(np.logical_and(tsn_data_['tsne-2d-one'] <= 500, tsn_data_['tsne-2d-two'] <= 100)))\n",
    "# tsn_plot(tsn_data_[np.logical_and(tsn_data_['tsne-2d-one'] <= 500, tsn_data_['tsne-2d-two'] <= 100)])"
   ]
  },
  {
   "cell_type": "code",
   "execution_count": 358,
   "id": "4ffc9b8a",
   "metadata": {},
   "outputs": [
    {
     "data": {
      "text/plain": [
       "((372, 256), (372,))"
      ]
     },
     "execution_count": 358,
     "metadata": {},
     "output_type": "execute_result"
    }
   ],
   "source": [
    "### applied the retrain model to entire training set to get the embeddings\n",
    "x_embedding_test, x_labels_test = embedding_collection(model_path=X_model_path, data_set=test_dataset, is_SS=False, is_MOCSS=False)\n",
    "\n",
    "x_embedding_test.shape, x_labels_test.shape"
   ]
  },
  {
   "cell_type": "code",
   "execution_count": 359,
   "id": "7367dbce",
   "metadata": {},
   "outputs": [
    {
     "data": {
      "text/plain": [
       "((1494, 512), (1494,))"
      ]
     },
     "execution_count": 359,
     "metadata": {},
     "output_type": "execute_result"
    }
   ],
   "source": [
    "### applied the retrain model to entire training set to get the embeddings\n",
    "mm_embedding_train, mm_labels_train = embedding_collection(model_path=MM_model_path, data_set=train_dataset, is_SS=False, is_MOCSS=False)\n",
    "\n",
    "mm_embedding_train.shape, mm_labels_train.shape\n",
    "# tsn_plot(tsn_data(mm_embedding, label=mm_labels))"
   ]
  },
  {
   "cell_type": "code",
   "execution_count": 360,
   "id": "52f46725",
   "metadata": {},
   "outputs": [
    {
     "data": {
      "text/plain": [
       "((372, 512), (372,))"
      ]
     },
     "execution_count": 360,
     "metadata": {},
     "output_type": "execute_result"
    }
   ],
   "source": [
    "### applied the retrain model to entire training set to get the embeddings\n",
    "mm_embedding_test, mm_labels_test = embedding_collection(model_path=MM_model_path, data_set=test_dataset, is_SS=False, is_MOCSS=False)\n",
    "\n",
    "mm_embedding_test.shape, mm_labels_test.shape\n",
    "# tsn_plot(tsn_data(mm_embedding, label=mm_labels))"
   ]
  },
  {
   "cell_type": "code",
   "execution_count": 361,
   "id": "40765670",
   "metadata": {},
   "outputs": [
    {
     "data": {
      "text/plain": [
       "((1494, 96), (1494,))"
      ]
     },
     "execution_count": 361,
     "metadata": {},
     "output_type": "execute_result"
    }
   ],
   "source": [
    "### applied the retrain model to entire training set to get the embeddings\n",
    "mocss_embedding_train, mocss_labels_train = embedding_collection(model_path=MOCSS_model_path, data_set=train_dataset, is_SS=False, is_MOCSS=True)\n",
    "\n",
    "mocss_embedding_train.shape, mocss_labels_train.shape"
   ]
  },
  {
   "cell_type": "code",
   "execution_count": 362,
   "id": "cad6cb2a",
   "metadata": {},
   "outputs": [
    {
     "data": {
      "text/plain": [
       "((372, 96), (372,))"
      ]
     },
     "execution_count": 362,
     "metadata": {},
     "output_type": "execute_result"
    }
   ],
   "source": [
    "### applied the retrain model to entire training set to get the embeddings\n",
    "mocss_embedding_test, mocss_labels_test = embedding_collection(model_path=MOCSS_model_path, data_set=test_dataset, is_SS=False, is_MOCSS=True)\n",
    "\n",
    "mocss_embedding_test.shape, mocss_labels_test.shape"
   ]
  },
  {
   "cell_type": "code",
   "execution_count": 363,
   "id": "84c5516f",
   "metadata": {},
   "outputs": [
    {
     "data": {
      "text/plain": [
       "((1494, 1536), (1494,))"
      ]
     },
     "execution_count": 363,
     "metadata": {},
     "output_type": "execute_result"
    }
   ],
   "source": [
    "### applied the retrain model to entire training set to get the embeddings\n",
    "non_ortho_embedding_train, non_ortho_labels_train = embedding_collection(model_path=NonOrtho_model_path, data_set=train_dataset, is_SS=True, is_MOCSS=False)\n",
    "\n",
    "non_ortho_embedding_train.shape, labels_train.shape\n",
    "# tsn_plot(tsn_data(non_ortho_embedding, label=non_ortho_labels))"
   ]
  },
  {
   "cell_type": "code",
   "execution_count": 364,
   "id": "1039671e",
   "metadata": {},
   "outputs": [
    {
     "data": {
      "text/plain": [
       "((372, 1536), (372,))"
      ]
     },
     "execution_count": 364,
     "metadata": {},
     "output_type": "execute_result"
    }
   ],
   "source": [
    "### applied the retrain model to entire training set to get the embeddings\n",
    "non_ortho_embedding_test, non_ortho_labels_test = embedding_collection(model_path=NonOrtho_model_path, data_set=test_dataset, is_SS=True, is_MOCSS=False)\n",
    "\n",
    "non_ortho_embedding_test.shape, labels_test.shape\n",
    "# tsn_plot(tsn_data(non_ortho_embedding, label=non_ortho_labels))"
   ]
  },
  {
   "cell_type": "code",
   "execution_count": null,
   "id": "ea484ccd",
   "metadata": {},
   "outputs": [],
   "source": []
  },
  {
   "cell_type": "code",
   "execution_count": 365,
   "id": "0e383918",
   "metadata": {},
   "outputs": [
    {
     "data": {
      "text/plain": [
       "((1494, 3072), (1494,))"
      ]
     },
     "execution_count": 365,
     "metadata": {},
     "output_type": "execute_result"
    }
   ],
   "source": [
    "### applied the retrain model to entire training set to get the embeddings\n",
    "ortho_1_embedding_train, ortho_1_labels_train = embedding_collection(model_path=Ortho_AE_1_model_path, data_set=train_dataset, is_SS=True, is_MOCSS=False)\n",
    "\n",
    "ortho_1_embedding_train.shape, ortho_1_labels_train.shape\n",
    "\n",
    "# #### clustering on embeddings\n",
    "# tsn_data_ = tsn_data(ortho_1_embedding, label=ortho_1_labels)\n",
    "# print(sum(np.logical_and(tsn_data_['tsne-2d-one'] <= 100, tsn_data_['tsne-2d-two'] <= 200)))\n",
    "# tsn_plot(tsn_data_[np.logical_and(tsn_data_['tsne-2d-one'] <= 100, tsn_data_['tsne-2d-two'] <= 200)])"
   ]
  },
  {
   "cell_type": "code",
   "execution_count": 366,
   "id": "de4827bd",
   "metadata": {},
   "outputs": [
    {
     "data": {
      "text/plain": [
       "((372, 3072), (372,))"
      ]
     },
     "execution_count": 366,
     "metadata": {},
     "output_type": "execute_result"
    }
   ],
   "source": [
    "### applied the retrain model to entire training set to get the embeddings\n",
    "ortho_1_embedding_test, ortho_1_labels_test = embedding_collection(model_path=Ortho_AE_1_model_path, data_set=test_dataset, is_SS=True, is_MOCSS=False)\n",
    "\n",
    "ortho_1_embedding_test.shape, ortho_1_labels_test.shape\n",
    "\n",
    "# #### clustering on embeddings\n",
    "# tsn_data_ = tsn_data(ortho_1_embedding, label=ortho_1_labels)\n",
    "# print(sum(np.logical_and(tsn_data_['tsne-2d-one'] <= 100, tsn_data_['tsne-2d-two'] <= 200)))\n",
    "# tsn_plot(tsn_data_[np.logical_and(tsn_data_['tsne-2d-one'] <= 100, tsn_data_['tsne-2d-two'] <= 200)])"
   ]
  },
  {
   "cell_type": "code",
   "execution_count": null,
   "id": "9baeb557",
   "metadata": {},
   "outputs": [],
   "source": []
  },
  {
   "cell_type": "code",
   "execution_count": 367,
   "id": "086656d2",
   "metadata": {},
   "outputs": [
    {
     "data": {
      "text/plain": [
       "((1494, 3072), (1494,))"
      ]
     },
     "execution_count": 367,
     "metadata": {},
     "output_type": "execute_result"
    }
   ],
   "source": [
    "### applied the retrain model to entire training set to get the embeddings\n",
    "ortho_2_embedding_train, ortho_2_labels_train = embedding_collection(model_path=Ortho_AE_2_model_path, data_set=train_dataset, is_SS=True, is_MOCSS=False)\n",
    "\n",
    "ortho_2_embedding_train.shape, ortho_2_labels_train.shape\n",
    "# tsn_plot(tsn_data(ortho_2_embedding, label=ortho_2_labels))\n",
    "\n",
    "\n",
    "# tsn_data_ = tsn_data(ortho_2_embedding, label=ortho_2_labels)\n",
    "# tsn_plot(tsn_data_[np.logical_and(tsn_data_['tsne-2d-one'] <= 100, tsn_data_['tsne-2d-two'] <= 200)])"
   ]
  },
  {
   "cell_type": "code",
   "execution_count": 368,
   "id": "fc94c4de",
   "metadata": {},
   "outputs": [
    {
     "data": {
      "text/plain": [
       "((372, 3072), (372,))"
      ]
     },
     "execution_count": 368,
     "metadata": {},
     "output_type": "execute_result"
    }
   ],
   "source": [
    "### applied the retrain model to entire training set to get the embeddings\n",
    "ortho_2_embedding_test, ortho_2_labels_test = embedding_collection(model_path=Ortho_AE_2_model_path, data_set=test_dataset, is_SS=True, is_MOCSS=False)\n",
    "\n",
    "ortho_2_embedding_test.shape, ortho_2_labels_test.shape\n",
    "# tsn_plot(tsn_data(ortho_2_embedding, label=ortho_2_labels))\n",
    "\n",
    "\n",
    "# tsn_data_ = tsn_data(ortho_2_embedding, label=ortho_2_labels)\n",
    "# tsn_plot(tsn_data_[np.logical_and(tsn_data_['tsne-2d-one'] <= 100, tsn_data_['tsne-2d-two'] <= 200)])"
   ]
  },
  {
   "cell_type": "code",
   "execution_count": null,
   "id": "1cc637f6",
   "metadata": {},
   "outputs": [],
   "source": []
  },
  {
   "cell_type": "code",
   "execution_count": 369,
   "id": "7f86e59a",
   "metadata": {},
   "outputs": [
    {
     "data": {
      "text/plain": [
       "((1494, 192), (1494,))"
      ]
     },
     "execution_count": 369,
     "metadata": {},
     "output_type": "execute_result"
    }
   ],
   "source": [
    "### applied the retrain model to entire training set to get the embeddings\n",
    "ortho_3_embedding_train, ortho_3_labels_train = embedding_collection(model_path=Ortho_AE_3_model_path, data_set=train_dataset, is_SS=True, is_MOCSS=False)\n",
    "\n",
    "ortho_3_embedding_train.shape, ortho_3_labels_train.shape\n",
    "# tsn_plot(tsn_data(ortho_3_embedding, label=ortho_3_labels))"
   ]
  },
  {
   "cell_type": "code",
   "execution_count": 370,
   "id": "2526d6fc",
   "metadata": {},
   "outputs": [
    {
     "data": {
      "text/plain": [
       "((372, 192), (372,))"
      ]
     },
     "execution_count": 370,
     "metadata": {},
     "output_type": "execute_result"
    }
   ],
   "source": [
    "### applied the retrain model to entire training set to get the embeddings\n",
    "ortho_3_embedding_test, ortho_3_labels_test = embedding_collection(model_path=Ortho_AE_3_model_path, data_set=test_dataset, is_SS=True, is_MOCSS=False)\n",
    "\n",
    "ortho_3_embedding_test.shape, ortho_3_labels_test.shape\n",
    "# tsn_plot(tsn_data(ortho_3_embedding, label=ortho_3_labels))"
   ]
  },
  {
   "cell_type": "code",
   "execution_count": null,
   "id": "1220a960",
   "metadata": {},
   "outputs": [],
   "source": []
  },
  {
   "cell_type": "code",
   "execution_count": 371,
   "id": "9ae7d386",
   "metadata": {},
   "outputs": [],
   "source": [
    "joint_train = pd.read_csv('/home/wangc90/Data_integration/TCGA_model_outputs/model_selection_outputs/JIVE/training_data/joint_components.csv')\n",
    "\n",
    "individual_1_train = pd.read_csv('/home/wangc90/Data_integration/TCGA_model_outputs/model_selection_outputs/JIVE/training_data/individual_1_components.csv')\n",
    "\n",
    "individual_2_train = pd.read_csv('/home/wangc90/Data_integration/TCGA_model_outputs/model_selection_outputs/JIVE/training_data/individual_2_components.csv')"
   ]
  },
  {
   "cell_type": "code",
   "execution_count": 372,
   "id": "80bc387d",
   "metadata": {},
   "outputs": [
    {
     "data": {
      "text/plain": [
       "(1494, 266)"
      ]
     },
     "execution_count": 372,
     "metadata": {},
     "output_type": "execute_result"
    }
   ],
   "source": [
    "JIVE_features_train = pd.concat([joint_train, individual_1_train, individual_2_train], axis=1)\n",
    "JIVE_features_train.shape"
   ]
  },
  {
   "cell_type": "code",
   "execution_count": 373,
   "id": "3a407f8d",
   "metadata": {},
   "outputs": [],
   "source": [
    "JIVE_labels_train = pd.read_csv('/home/wangc90/Data_integration/TCGA_model_outputs/model_selection_outputs/JIVE/training_data/train_labels.csv')"
   ]
  },
  {
   "cell_type": "code",
   "execution_count": 374,
   "id": "1555f1ea",
   "metadata": {},
   "outputs": [],
   "source": [
    "labels_dict = {'Primary Tumor*breast': 0, 'Primary Tumor*lung': 1,\n",
    "                   'Primary Tumor*melanoma': 2, 'Primary Tumor*liver': 3,\n",
    "                   'Primary Tumor*sarcoma': 4, 'Primary Tumor*kidney': 5}\n",
    "\n",
    "JIVE_labels_train_ = np.array(JIVE_labels_train['0'].apply(lambda X: labels_dict[X]))"
   ]
  },
  {
   "cell_type": "code",
   "execution_count": null,
   "id": "c6c4148e",
   "metadata": {},
   "outputs": [],
   "source": []
  },
  {
   "cell_type": "code",
   "execution_count": 375,
   "id": "2003257e",
   "metadata": {},
   "outputs": [],
   "source": [
    "joint_test = pd.read_csv('/home/wangc90/Data_integration/TCGA_model_outputs/model_selection_outputs/JIVE/testing_data/joint_components.csv')\n",
    "\n",
    "individual_1_test = pd.read_csv('/home/wangc90/Data_integration/TCGA_model_outputs/model_selection_outputs/JIVE/testing_data/individual_1_components.csv')\n",
    "\n",
    "individual_2_test = pd.read_csv('/home/wangc90/Data_integration/TCGA_model_outputs/model_selection_outputs/JIVE/testing_data/individual_2_components.csv')"
   ]
  },
  {
   "cell_type": "code",
   "execution_count": 376,
   "id": "c09029d7",
   "metadata": {},
   "outputs": [
    {
     "data": {
      "text/plain": [
       "(372, 266)"
      ]
     },
     "execution_count": 376,
     "metadata": {},
     "output_type": "execute_result"
    }
   ],
   "source": [
    "JIVE_features_test = pd.concat([joint_test, individual_1_test, individual_2_test], axis=1)\n",
    "JIVE_features_test.shape"
   ]
  },
  {
   "cell_type": "code",
   "execution_count": 377,
   "id": "0cb4d6bd",
   "metadata": {},
   "outputs": [],
   "source": [
    "JIVE_labels_test = pd.read_csv('/home/wangc90/Data_integration/TCGA_model_outputs/model_selection_outputs/JIVE/testing_data/test_labels.csv')"
   ]
  },
  {
   "cell_type": "code",
   "execution_count": 378,
   "id": "fd34f0f3",
   "metadata": {},
   "outputs": [],
   "source": [
    "JIVE_labels_test_ = np.array(JIVE_labels_test['0'].apply(lambda X: labels_dict[X]))"
   ]
  },
  {
   "cell_type": "code",
   "execution_count": null,
   "id": "b63da823",
   "metadata": {},
   "outputs": [],
   "source": []
  },
  {
   "cell_type": "code",
   "execution_count": null,
   "id": "90bc50b3",
   "metadata": {},
   "outputs": [],
   "source": []
  },
  {
   "cell_type": "code",
   "execution_count": 379,
   "id": "971cb1a1",
   "metadata": {},
   "outputs": [],
   "source": [
    "def collect_nb_results(feature_label_list):\n",
    "    '''\n",
    "        This function is used to collect all the nb classification results\n",
    "        based either on original features or the extracted embeddings\n",
    "    '''\n",
    "    ### loop through each features\n",
    "    \n",
    "    final_df_list = []\n",
    "    feature_names = []\n",
    "    for feature_name, feature, label in feature_label_list:\n",
    "        df = nb_classfication(X=feature, y=label)\n",
    "        feature_names.append(feature_name)\n",
    "        final_df_list.append(df)\n",
    "\n",
    "    final_df = pd.concat(final_df_list, axis=1, keys=feature_names)\n",
    "    \n",
    "    final_df.columns = [i[0] for i in final_df.columns]\n",
    "    return final_df.T\n",
    "    "
   ]
  },
  {
   "cell_type": "code",
   "execution_count": 397,
   "id": "a2eac26a",
   "metadata": {},
   "outputs": [
    {
     "name": "stdout",
     "output_type": "stream",
     "text": [
      "Cross-validation results:\n",
      "Cross-validation results:\n",
      "Cross-validation results:\n",
      "Cross-validation results:\n",
      "Cross-validation results:\n",
      "Cross-validation results:\n",
      "Cross-validation results:\n",
      "Cross-validation results:\n",
      "Cross-validation results:\n",
      "Cross-validation results:\n",
      "Cross-validation results:\n",
      "Cross-validation results:\n"
     ]
    }
   ],
   "source": [
    "df_train = collect_nb_results(feature_label_list=[('Gene', feature1_train, labels_train),\n",
    "                                            ('miRNA', feature2_train, labels_train),\n",
    "                                            ('Gene+miRNA', feature12_train, labels_train),\n",
    "                                            ('CNC_AE', cnc_embedding_train, cnc_labels_train),\n",
    "                                            ('X_AE', x_embedding_train, x_labels_train),\n",
    "                                            ('MM_AE', mm_embedding_train, mm_labels_train),\n",
    "                                            ('JISAE', non_ortho_embedding_train, non_ortho_labels_train),\n",
    "                                            ('JISAE-O1', ortho_1_embedding_train, ortho_1_labels_train),\n",
    "                                            ('JISAE-O2', ortho_2_embedding_train, ortho_2_labels_train),\n",
    "                                            ('JISAE-O3', ortho_3_embedding_train, ortho_3_labels_train),\n",
    "                                            ('MOCSS', mocss_embedding_train, mocss_labels_train),\n",
    "                                            ('JIVE', JIVE_features_train, JIVE_labels_train_)])"
   ]
  },
  {
   "cell_type": "code",
   "execution_count": 398,
   "id": "1f444884",
   "metadata": {},
   "outputs": [
    {
     "data": {
      "text/html": [
       "<div>\n",
       "<style scoped>\n",
       "    .dataframe tbody tr th:only-of-type {\n",
       "        vertical-align: middle;\n",
       "    }\n",
       "\n",
       "    .dataframe tbody tr th {\n",
       "        vertical-align: top;\n",
       "    }\n",
       "\n",
       "    .dataframe thead th {\n",
       "        text-align: right;\n",
       "    }\n",
       "</style>\n",
       "<table border=\"1\" class=\"dataframe\">\n",
       "  <thead>\n",
       "    <tr style=\"text-align: right;\">\n",
       "      <th></th>\n",
       "      <th>fold1</th>\n",
       "      <th>fold2</th>\n",
       "      <th>fold3</th>\n",
       "      <th>fold4</th>\n",
       "      <th>fold5</th>\n",
       "    </tr>\n",
       "  </thead>\n",
       "  <tbody>\n",
       "    <tr>\n",
       "      <th>Gene</th>\n",
       "      <td>0.719064</td>\n",
       "      <td>0.839465</td>\n",
       "      <td>0.799331</td>\n",
       "      <td>0.809365</td>\n",
       "      <td>0.755034</td>\n",
       "    </tr>\n",
       "    <tr>\n",
       "      <th>miRNA</th>\n",
       "      <td>0.832776</td>\n",
       "      <td>0.792642</td>\n",
       "      <td>0.785953</td>\n",
       "      <td>0.762542</td>\n",
       "      <td>0.795302</td>\n",
       "    </tr>\n",
       "    <tr>\n",
       "      <th>Gene+miRNA</th>\n",
       "      <td>0.695652</td>\n",
       "      <td>0.752508</td>\n",
       "      <td>0.702341</td>\n",
       "      <td>0.722408</td>\n",
       "      <td>0.697987</td>\n",
       "    </tr>\n",
       "    <tr>\n",
       "      <th>CNC_AE</th>\n",
       "      <td>0.943144</td>\n",
       "      <td>0.876254</td>\n",
       "      <td>0.862876</td>\n",
       "      <td>0.829431</td>\n",
       "      <td>0.852349</td>\n",
       "    </tr>\n",
       "    <tr>\n",
       "      <th>X_AE</th>\n",
       "      <td>0.906355</td>\n",
       "      <td>0.872910</td>\n",
       "      <td>0.923077</td>\n",
       "      <td>0.899666</td>\n",
       "      <td>0.936242</td>\n",
       "    </tr>\n",
       "    <tr>\n",
       "      <th>MM_AE</th>\n",
       "      <td>0.953177</td>\n",
       "      <td>0.943144</td>\n",
       "      <td>0.959866</td>\n",
       "      <td>0.936455</td>\n",
       "      <td>0.966443</td>\n",
       "    </tr>\n",
       "    <tr>\n",
       "      <th>JISAE</th>\n",
       "      <td>0.882943</td>\n",
       "      <td>0.933110</td>\n",
       "      <td>0.963211</td>\n",
       "      <td>0.949833</td>\n",
       "      <td>0.946309</td>\n",
       "    </tr>\n",
       "    <tr>\n",
       "      <th>JISAE-O1</th>\n",
       "      <td>0.919732</td>\n",
       "      <td>0.936455</td>\n",
       "      <td>0.943144</td>\n",
       "      <td>0.926421</td>\n",
       "      <td>0.912752</td>\n",
       "    </tr>\n",
       "    <tr>\n",
       "      <th>JISAE-O2</th>\n",
       "      <td>0.909699</td>\n",
       "      <td>0.909699</td>\n",
       "      <td>0.933110</td>\n",
       "      <td>0.933110</td>\n",
       "      <td>0.895973</td>\n",
       "    </tr>\n",
       "    <tr>\n",
       "      <th>JISAE-O3</th>\n",
       "      <td>0.846154</td>\n",
       "      <td>0.795987</td>\n",
       "      <td>0.779264</td>\n",
       "      <td>0.826087</td>\n",
       "      <td>0.775168</td>\n",
       "    </tr>\n",
       "    <tr>\n",
       "      <th>MOCSS</th>\n",
       "      <td>0.846154</td>\n",
       "      <td>0.859532</td>\n",
       "      <td>0.913043</td>\n",
       "      <td>0.866221</td>\n",
       "      <td>0.825503</td>\n",
       "    </tr>\n",
       "    <tr>\n",
       "      <th>JIVE</th>\n",
       "      <td>0.595318</td>\n",
       "      <td>0.668896</td>\n",
       "      <td>0.682274</td>\n",
       "      <td>0.709030</td>\n",
       "      <td>0.704698</td>\n",
       "    </tr>\n",
       "  </tbody>\n",
       "</table>\n",
       "</div>"
      ],
      "text/plain": [
       "               fold1     fold2     fold3     fold4     fold5\n",
       "Gene        0.719064  0.839465  0.799331  0.809365  0.755034\n",
       "miRNA       0.832776  0.792642  0.785953  0.762542  0.795302\n",
       "Gene+miRNA  0.695652  0.752508  0.702341  0.722408  0.697987\n",
       "CNC_AE      0.943144  0.876254  0.862876  0.829431  0.852349\n",
       "X_AE        0.906355  0.872910  0.923077  0.899666  0.936242\n",
       "MM_AE       0.953177  0.943144  0.959866  0.936455  0.966443\n",
       "JISAE       0.882943  0.933110  0.963211  0.949833  0.946309\n",
       "JISAE-O1    0.919732  0.936455  0.943144  0.926421  0.912752\n",
       "JISAE-O2    0.909699  0.909699  0.933110  0.933110  0.895973\n",
       "JISAE-O3    0.846154  0.795987  0.779264  0.826087  0.775168\n",
       "MOCSS       0.846154  0.859532  0.913043  0.866221  0.825503\n",
       "JIVE        0.595318  0.668896  0.682274  0.709030  0.704698"
      ]
     },
     "execution_count": 398,
     "metadata": {},
     "output_type": "execute_result"
    }
   ],
   "source": [
    "df_train"
   ]
  },
  {
   "cell_type": "code",
   "execution_count": null,
   "id": "70f56e9b",
   "metadata": {},
   "outputs": [],
   "source": []
  },
  {
   "cell_type": "code",
   "execution_count": 399,
   "id": "2ae0dacb",
   "metadata": {},
   "outputs": [
    {
     "name": "stdout",
     "output_type": "stream",
     "text": [
      "Cross-validation results:\n",
      "Cross-validation results:\n",
      "Cross-validation results:\n",
      "Cross-validation results:\n",
      "Cross-validation results:\n",
      "Cross-validation results:\n",
      "Cross-validation results:\n",
      "Cross-validation results:\n",
      "Cross-validation results:\n",
      "Cross-validation results:\n",
      "Cross-validation results:\n",
      "Cross-validation results:\n"
     ]
    }
   ],
   "source": [
    "df_test = collect_nb_results(feature_label_list=[('Gene', feature1_test, labels_test),\n",
    "                                            ('miRNA', feature2_test, labels_test),\n",
    "                                            ('Gene+miRNA', feature12_test, labels_test),\n",
    "                                            ('CNC_AE', cnc_embedding_test, cnc_labels_test),\n",
    "                                            ('X_AE', x_embedding_test, x_labels_test),\n",
    "                                            ('MM_AE', mm_embedding_test, mm_labels_test),\n",
    "                                            ('JISAE', non_ortho_embedding_test, non_ortho_labels_test),\n",
    "                                            ('JISAE-O1', ortho_1_embedding_test, ortho_1_labels_test),\n",
    "                                            ('JISAE-O2', ortho_2_embedding_test, ortho_2_labels_test),\n",
    "                                            ('JISAE-O3', ortho_3_embedding_test, ortho_3_labels_test),\n",
    "                                            ('MOCSS', mocss_embedding_test, mocss_labels_test),\n",
    "                                            ('JIVE', JIVE_features_test, JIVE_labels_test_)])"
   ]
  },
  {
   "cell_type": "code",
   "execution_count": 402,
   "id": "413ffa0c",
   "metadata": {},
   "outputs": [
    {
     "data": {
      "text/html": [
       "<div>\n",
       "<style scoped>\n",
       "    .dataframe tbody tr th:only-of-type {\n",
       "        vertical-align: middle;\n",
       "    }\n",
       "\n",
       "    .dataframe tbody tr th {\n",
       "        vertical-align: top;\n",
       "    }\n",
       "\n",
       "    .dataframe thead th {\n",
       "        text-align: right;\n",
       "    }\n",
       "</style>\n",
       "<table border=\"1\" class=\"dataframe\">\n",
       "  <thead>\n",
       "    <tr style=\"text-align: right;\">\n",
       "      <th></th>\n",
       "      <th>fold1</th>\n",
       "      <th>fold2</th>\n",
       "      <th>fold3</th>\n",
       "      <th>fold4</th>\n",
       "      <th>fold5</th>\n",
       "    </tr>\n",
       "  </thead>\n",
       "  <tbody>\n",
       "    <tr>\n",
       "      <th>Gene</th>\n",
       "      <td>0.560000</td>\n",
       "      <td>0.600000</td>\n",
       "      <td>0.608108</td>\n",
       "      <td>0.594595</td>\n",
       "      <td>0.527027</td>\n",
       "    </tr>\n",
       "    <tr>\n",
       "      <th>miRNA</th>\n",
       "      <td>0.493333</td>\n",
       "      <td>0.613333</td>\n",
       "      <td>0.635135</td>\n",
       "      <td>0.608108</td>\n",
       "      <td>0.513514</td>\n",
       "    </tr>\n",
       "    <tr>\n",
       "      <th>Gene+miRNA</th>\n",
       "      <td>0.600000</td>\n",
       "      <td>0.560000</td>\n",
       "      <td>0.635135</td>\n",
       "      <td>0.567568</td>\n",
       "      <td>0.527027</td>\n",
       "    </tr>\n",
       "    <tr>\n",
       "      <th>CNC_AE</th>\n",
       "      <td>0.946667</td>\n",
       "      <td>0.973333</td>\n",
       "      <td>0.959459</td>\n",
       "      <td>0.959459</td>\n",
       "      <td>0.945946</td>\n",
       "    </tr>\n",
       "    <tr>\n",
       "      <th>X_AE</th>\n",
       "      <td>0.786667</td>\n",
       "      <td>0.906667</td>\n",
       "      <td>0.905405</td>\n",
       "      <td>0.918919</td>\n",
       "      <td>0.864865</td>\n",
       "    </tr>\n",
       "    <tr>\n",
       "      <th>MM_AE</th>\n",
       "      <td>0.893333</td>\n",
       "      <td>0.893333</td>\n",
       "      <td>0.824324</td>\n",
       "      <td>0.932432</td>\n",
       "      <td>0.864865</td>\n",
       "    </tr>\n",
       "    <tr>\n",
       "      <th>JISAE</th>\n",
       "      <td>0.866667</td>\n",
       "      <td>0.893333</td>\n",
       "      <td>0.918919</td>\n",
       "      <td>0.905405</td>\n",
       "      <td>0.851351</td>\n",
       "    </tr>\n",
       "    <tr>\n",
       "      <th>JISAE-O1</th>\n",
       "      <td>0.893333</td>\n",
       "      <td>0.946667</td>\n",
       "      <td>0.878378</td>\n",
       "      <td>0.945946</td>\n",
       "      <td>0.932432</td>\n",
       "    </tr>\n",
       "    <tr>\n",
       "      <th>JISAE-O2</th>\n",
       "      <td>0.866667</td>\n",
       "      <td>0.933333</td>\n",
       "      <td>0.864865</td>\n",
       "      <td>0.918919</td>\n",
       "      <td>0.864865</td>\n",
       "    </tr>\n",
       "    <tr>\n",
       "      <th>JISAE-O3</th>\n",
       "      <td>0.866667</td>\n",
       "      <td>0.880000</td>\n",
       "      <td>0.945946</td>\n",
       "      <td>0.945946</td>\n",
       "      <td>0.918919</td>\n",
       "    </tr>\n",
       "    <tr>\n",
       "      <th>MOCSS</th>\n",
       "      <td>0.906667</td>\n",
       "      <td>0.893333</td>\n",
       "      <td>0.864865</td>\n",
       "      <td>0.864865</td>\n",
       "      <td>0.756757</td>\n",
       "    </tr>\n",
       "    <tr>\n",
       "      <th>JIVE</th>\n",
       "      <td>0.880000</td>\n",
       "      <td>0.866667</td>\n",
       "      <td>0.851351</td>\n",
       "      <td>0.824324</td>\n",
       "      <td>0.864865</td>\n",
       "    </tr>\n",
       "  </tbody>\n",
       "</table>\n",
       "</div>"
      ],
      "text/plain": [
       "               fold1     fold2     fold3     fold4     fold5\n",
       "Gene        0.560000  0.600000  0.608108  0.594595  0.527027\n",
       "miRNA       0.493333  0.613333  0.635135  0.608108  0.513514\n",
       "Gene+miRNA  0.600000  0.560000  0.635135  0.567568  0.527027\n",
       "CNC_AE      0.946667  0.973333  0.959459  0.959459  0.945946\n",
       "X_AE        0.786667  0.906667  0.905405  0.918919  0.864865\n",
       "MM_AE       0.893333  0.893333  0.824324  0.932432  0.864865\n",
       "JISAE       0.866667  0.893333  0.918919  0.905405  0.851351\n",
       "JISAE-O1    0.893333  0.946667  0.878378  0.945946  0.932432\n",
       "JISAE-O2    0.866667  0.933333  0.864865  0.918919  0.864865\n",
       "JISAE-O3    0.866667  0.880000  0.945946  0.945946  0.918919\n",
       "MOCSS       0.906667  0.893333  0.864865  0.864865  0.756757\n",
       "JIVE        0.880000  0.866667  0.851351  0.824324  0.864865"
      ]
     },
     "execution_count": 402,
     "metadata": {},
     "output_type": "execute_result"
    }
   ],
   "source": [
    "df_test"
   ]
  },
  {
   "cell_type": "code",
   "execution_count": null,
   "id": "185a1dc6",
   "metadata": {},
   "outputs": [],
   "source": []
  },
  {
   "cell_type": "code",
   "execution_count": 400,
   "id": "4faf5b04",
   "metadata": {},
   "outputs": [],
   "source": [
    "df_train.reset_index().to_csv('/home/wangc90/Data_integration/TCGA_model_outputs/model_retraining_outputs/Results/nb_classification_results_training.csv',\n",
    "                       index=None)"
   ]
  },
  {
   "cell_type": "code",
   "execution_count": 401,
   "id": "1c6d3a9e",
   "metadata": {},
   "outputs": [],
   "source": [
    "df_test.reset_index().to_csv('/home/wangc90/Data_integration/TCGA_model_outputs/model_retraining_outputs/Results/nb_classification_results_testing.csv',\n",
    "                       index=None)"
   ]
  },
  {
   "cell_type": "markdown",
   "id": "59fa37ed",
   "metadata": {},
   "source": [
    "### nb clssification results"
   ]
  },
  {
   "cell_type": "code",
   "execution_count": null,
   "id": "97cd4943",
   "metadata": {},
   "outputs": [],
   "source": []
  },
  {
   "cell_type": "code",
   "execution_count": 419,
   "id": "36bcefa2",
   "metadata": {},
   "outputs": [],
   "source": [
    "%%R -o nb_classification_training_ -o nb_classification_training_sum\n",
    "nb_classification_training = read.csv('/home/wangc90/Data_integration/TCGA_model_outputs/model_retraining_outputs/Results/nb_classification_results_training.csv', header=T, sep=',')\n",
    "\n",
    "\n",
    "nb_classification_training_ <- nb_classification_training %>%\n",
    "pivot_longer(cols = c(fold1, fold2, fold3, fold4, fold5),\n",
    "               names_to = \"cv_num\",\n",
    "               values_to = \"accuracy\")\n",
    "\n",
    "\n",
    "nb_classification_training_$index = factor(nb_classification_training_$index, levels = c(c('Gene', 'miRNA', 'Gene+miRNA',\n",
    "                                                                                        'CNC_AE', 'X_AE',\n",
    "                                                                                         'MM_AE', 'JISAE',\n",
    "                                                                                         'JISAE-O1', 'JISAE-O2',\n",
    "                                                                                         'JISAE-O3', 'MOCSS', \n",
    "                                                                                          'JIVE')))\n",
    "## for plot the summary statistics\n",
    "nb_classification_training_sum <- nb_classification_training_ %>%\n",
    "    group_by(index) %>%\n",
    "    summarise(\n",
    "    std = sd(accuracy),\n",
    "    accuracy = mean(accuracy))\n"
   ]
  },
  {
   "cell_type": "code",
   "execution_count": null,
   "id": "62970df4",
   "metadata": {},
   "outputs": [],
   "source": []
  },
  {
   "cell_type": "code",
   "execution_count": 433,
   "id": "86c8eff7",
   "metadata": {},
   "outputs": [
    {
     "data": {
      "image/png": "[encoded data removed]",
      "text/plain": [
       "<IPython.core.display.Image object>"
      ]
     },
     "metadata": {},
     "output_type": "display_data"
    }
   ],
   "source": [
    "%%R -i nb_classification_training_ -i nb_classification_training_sum\n",
    "\n",
    "p2 <- ggplot(nb_classification_training_, aes(x = index, y = accuracy, fill = index)) +\n",
    "    geom_bar(position = 'dodge', stat = 'summary', fun=mean) +\n",
    "    geom_text(aes(label = after_stat(round(y, 4))), stat = \"summary\", fun = \"mean\", vjust = -4 , size=8) +\n",
    "    \n",
    "    geom_point(aes(x = index), position = \n",
    "           position_jitterdodge(jitter.width = 0.5, jitter.height=0, \n",
    "                                dodge.width=1), size=5, color='gray') +\n",
    "    \n",
    "    geom_errorbar(aes(ymin = accuracy-std, ymax = accuracy+std), data = nb_classification_training_sum, \n",
    "    width = 0.2, position = position_dodge(0.8)) +\n",
    "    scale_y_continuous(breaks = seq(0, 1, 0.1), expand = expansion(mult = c(0, 0.1))) +\n",
    "      labs(x='Different features used as the input on the training set',\n",
    "           y='5-fold cross validation classification accuracy with naive bayes classifier',\n",
    "           fill='Features') +\n",
    "      scale_fill_manual('Features', values = c(\"#88CCEE\", \"#CC6677\", \"#DDCC77\", \"#117733\", \"#332288\", \"#AA4499\", \n",
    "                             \"#44AA99\", \"#999933\", \"#882255\", \"#661100\", \"#6699CC\", \"#888888\")) +\n",
    "      theme_classic() +\n",
    "      theme(legend.position = \"None\",\n",
    "            legend.title = element_text(size = 22),\n",
    "            legend.text = element_text(size = 18),\n",
    "            axis.text.x = element_text(angle = 90, size = 22),\n",
    "            axis.text.y = element_text(size = 22),\n",
    "            axis.title = element_text(size = 22))\n",
    "\n",
    "\n",
    "\n",
    "ggsave(filename=file.path('/home/wangc90/Data_integration/AE_results_folder/nb_5cv_acc_training_tcga.svg'),\n",
    "       width=15, height=15, plot=p2)\n",
    "p2"
   ]
  },
  {
   "cell_type": "code",
   "execution_count": 434,
   "id": "35a3ba56",
   "metadata": {},
   "outputs": [],
   "source": [
    "%%R -o nb_classification_testing_ -o nb_classification_testing_sum\n",
    "nb_classification_testing = read.csv('/home/wangc90/Data_integration/TCGA_model_outputs/model_retraining_outputs/Results/nb_classification_results_testing.csv', header=T, sep=',')\n",
    "\n",
    "nb_classification_testing_ <- nb_classification_testing %>%\n",
    "pivot_longer(cols = c(fold1, fold2, fold3, fold4, fold5),\n",
    "               names_to = \"cv_num\",\n",
    "               values_to = \"accuracy\")\n",
    "\n",
    "nb_classification_testing_$index = factor(nb_classification_testing_$index, levels = c(c('Gene', 'miRNA', 'Gene+miRNA',\n",
    "                                                                                        'CNC_AE', 'X_AE',\n",
    "                                                                                         'MM_AE', 'JISAE',\n",
    "                                                                                         'JISAE-O1', 'JISAE-O2',\n",
    "                                                                                         'JISAE-O3', 'MOCSS',\n",
    "                                                                                         'JIVE')))\n",
    "\n",
    "## for plot the summary statistics\n",
    "nb_classification_testing_sum <- nb_classification_testing_ %>%\n",
    "    group_by(index) %>%\n",
    "    summarise(\n",
    "    std = sd(accuracy),\n",
    "    accuracy = mean(accuracy))\n"
   ]
  },
  {
   "cell_type": "code",
   "execution_count": 435,
   "id": "39d29a40",
   "metadata": {},
   "outputs": [
    {
     "data": {
      "text/html": [
       "<div>\n",
       "<style scoped>\n",
       "    .dataframe tbody tr th:only-of-type {\n",
       "        vertical-align: middle;\n",
       "    }\n",
       "\n",
       "    .dataframe tbody tr th {\n",
       "        vertical-align: top;\n",
       "    }\n",
       "\n",
       "    .dataframe thead th {\n",
       "        text-align: right;\n",
       "    }\n",
       "</style>\n",
       "<table border=\"1\" class=\"dataframe\">\n",
       "  <thead>\n",
       "    <tr style=\"text-align: right;\">\n",
       "      <th></th>\n",
       "      <th>index</th>\n",
       "      <th>std</th>\n",
       "      <th>accuracy</th>\n",
       "    </tr>\n",
       "  </thead>\n",
       "  <tbody>\n",
       "    <tr>\n",
       "      <th>1</th>\n",
       "      <td>Gene</td>\n",
       "      <td>0.033868</td>\n",
       "      <td>0.577946</td>\n",
       "    </tr>\n",
       "    <tr>\n",
       "      <th>2</th>\n",
       "      <td>miRNA</td>\n",
       "      <td>0.064430</td>\n",
       "      <td>0.572685</td>\n",
       "    </tr>\n",
       "    <tr>\n",
       "      <th>3</th>\n",
       "      <td>Gene+miRNA</td>\n",
       "      <td>0.041169</td>\n",
       "      <td>0.577946</td>\n",
       "    </tr>\n",
       "    <tr>\n",
       "      <th>4</th>\n",
       "      <td>CNC_AE</td>\n",
       "      <td>0.011268</td>\n",
       "      <td>0.956973</td>\n",
       "    </tr>\n",
       "    <tr>\n",
       "      <th>5</th>\n",
       "      <td>X_AE</td>\n",
       "      <td>0.054199</td>\n",
       "      <td>0.876505</td>\n",
       "    </tr>\n",
       "    <tr>\n",
       "      <th>6</th>\n",
       "      <td>MM_AE</td>\n",
       "      <td>0.040062</td>\n",
       "      <td>0.881658</td>\n",
       "    </tr>\n",
       "    <tr>\n",
       "      <th>7</th>\n",
       "      <td>JISAE</td>\n",
       "      <td>0.027757</td>\n",
       "      <td>0.887135</td>\n",
       "    </tr>\n",
       "    <tr>\n",
       "      <th>8</th>\n",
       "      <td>JISAE-O1</td>\n",
       "      <td>0.031545</td>\n",
       "      <td>0.919351</td>\n",
       "    </tr>\n",
       "    <tr>\n",
       "      <th>9</th>\n",
       "      <td>JISAE-O2</td>\n",
       "      <td>0.033622</td>\n",
       "      <td>0.889730</td>\n",
       "    </tr>\n",
       "    <tr>\n",
       "      <th>10</th>\n",
       "      <td>JISAE-O3</td>\n",
       "      <td>0.036846</td>\n",
       "      <td>0.911495</td>\n",
       "    </tr>\n",
       "    <tr>\n",
       "      <th>11</th>\n",
       "      <td>MOCSS</td>\n",
       "      <td>0.059074</td>\n",
       "      <td>0.857297</td>\n",
       "    </tr>\n",
       "    <tr>\n",
       "      <th>12</th>\n",
       "      <td>JIVE</td>\n",
       "      <td>0.021112</td>\n",
       "      <td>0.857441</td>\n",
       "    </tr>\n",
       "  </tbody>\n",
       "</table>\n",
       "</div>"
      ],
      "text/plain": [
       "         index       std  accuracy\n",
       "1         Gene  0.033868  0.577946\n",
       "2        miRNA  0.064430  0.572685\n",
       "3   Gene+miRNA  0.041169  0.577946\n",
       "4       CNC_AE  0.011268  0.956973\n",
       "5         X_AE  0.054199  0.876505\n",
       "6        MM_AE  0.040062  0.881658\n",
       "7        JISAE  0.027757  0.887135\n",
       "8     JISAE-O1  0.031545  0.919351\n",
       "9     JISAE-O2  0.033622  0.889730\n",
       "10    JISAE-O3  0.036846  0.911495\n",
       "11       MOCSS  0.059074  0.857297\n",
       "12        JIVE  0.021112  0.857441"
      ]
     },
     "execution_count": 435,
     "metadata": {},
     "output_type": "execute_result"
    }
   ],
   "source": [
    "nb_classification_testing_sum"
   ]
  },
  {
   "cell_type": "code",
   "execution_count": 437,
   "id": "757cf457",
   "metadata": {},
   "outputs": [
    {
     "data": {
      "image/png": "[encoded data removed]",
      "text/plain": [
       "<IPython.core.display.Image object>"
      ]
     },
     "metadata": {},
     "output_type": "display_data"
    }
   ],
   "source": [
    "%%R -i nb_classification_testing_ -i nb_classification_testing_sum\n",
    "\n",
    "p3 <- ggplot(nb_classification_testing_, aes(x = index, y = accuracy, fill = index)) +\n",
    "    geom_bar(position = 'dodge', stat = 'summary', fun=mean) +\n",
    "    geom_text(aes(label = after_stat(round(y, 4))), stat = \"summary\", fun = \"mean\", vjust = -4, size=8) +\n",
    "    geom_point(aes(x = index), position = \n",
    "           position_jitterdodge(jitter.width = 0.5, jitter.height=0, \n",
    "                                dodge.width=1), size=5, color='gray') +\n",
    "\n",
    "    geom_errorbar(aes(ymin = accuracy-std, ymax = accuracy+std), data = nb_classification_testing_sum, \n",
    "    width = 0.2, position = position_dodge(0.8)) +\n",
    "\n",
    "    scale_y_continuous(breaks = seq(0, 1, 0.1), expand = expansion(mult = c(0, 0.1))) +\n",
    "      labs(x='Different features used as the input on the testing set',\n",
    "           y='5-fold cross validation classification accuracy with naive bayes classifier',\n",
    "           fill='Features') +\n",
    "      scale_fill_manual('Features', values = c(\"#88CCEE\", \"#CC6677\", \"#DDCC77\", \"#117733\", \"#332288\", \"#AA4499\", \n",
    "                             \"#44AA99\", \"#999933\", \"#882255\", \"#661100\", \"#6699CC\", \"#888888\")) +\n",
    "      theme_classic() +\n",
    "      theme(legend.position = \"None\",\n",
    "            legend.title = element_text(size = 22),\n",
    "            legend.text = element_text(size = 18),\n",
    "            axis.text.x = element_text(angle = 90, size = 22),\n",
    "            axis.text.y = element_text(size = 22),\n",
    "            axis.title = element_text(size = 22))\n",
    "ggsave(filename=file.path('/home/wangc90/Data_integration/AE_results_folder/nb_5cv_acc_testing_tcga.svg'),\n",
    "       width=15, height=15, plot=p3)\n",
    "\n",
    "p3\n"
   ]
  },
  {
   "cell_type": "code",
   "execution_count": null,
   "id": "f553858a",
   "metadata": {},
   "outputs": [],
   "source": []
  }
 ],
 "metadata": {
  "kernelspec": {
   "display_name": "Python 3 (ipykernel)",
   "language": "python",
   "name": "python3"
  },
  "language_info": {
   "codemirror_mode": {
    "name": "ipython",
    "version": 3
   },
   "file_extension": ".py",
   "mimetype": "text/x-python",
   "name": "python",
   "nbconvert_exporter": "python",
   "pygments_lexer": "ipython3",
   "version": "3.9.18"
  }
 },
 "nbformat": 4,
 "nbformat_minor": 5
}
